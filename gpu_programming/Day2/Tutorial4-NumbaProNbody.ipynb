{
 "cells": [
  {
   "cell_type": "markdown",
   "metadata": {
    "slideshow": {
     "slide_type": "slide"
    }
   },
   "source": [
    "# Some more NumbaPro examples"
   ]
  },
  {
   "cell_type": "markdown",
   "metadata": {
    "slideshow": {
     "slide_type": "slide"
    }
   },
   "source": [
    "# Nbody"
   ]
  },
  {
   "cell_type": "code",
   "execution_count": 1,
   "metadata": {
    "collapsed": true
   },
   "outputs": [],
   "source": [
    "import numpy as np\n",
    "from numba import jit, cuda, autojit, float32, float64, f4, f8\n",
    "from timeit import default_timer as timer\n",
    "\n",
    "dtype = np.float64\n",
    "n = 16384\n",
    "blksize = 128\n",
    "eps = 1.e-2"
   ]
  },
  {
   "cell_type": "markdown",
   "metadata": {
    "slideshow": {
     "slide_type": "slide"
    }
   },
   "source": [
    "# 1st version - Numpy"
   ]
  },
  {
   "cell_type": "code",
   "execution_count": 2,
   "metadata": {
    "collapsed": true
   },
   "outputs": [],
   "source": [
    "def induced_velocity(x, xvort, gam, vel):\n",
    "    vel[:] = 0.\n",
    "    for xv, g in zip(xvort, gam):\n",
    "        r = x - xv\n",
    "        rsq = np.sum(r * r, 1) + eps**2\n",
    "        vel += g * np.transpose(np.array([r[:,1], -r[:,0]])) / rsq[:, np.newaxis]"
   ]
  },
  {
   "cell_type": "markdown",
   "metadata": {
    "slideshow": {
     "slide_type": "slide"
    }
   },
   "source": [
    "# 2nd version - Numba on the CPU"
   ]
  },
  {
   "cell_type": "code",
   "execution_count": 3,
   "metadata": {
    "collapsed": true
   },
   "outputs": [],
   "source": [
    "def induced_velocity3(x, xvort, gam, vel):\n",
    "    nx = x.shape[0]\n",
    "    nvort = xvort.shape[0]\n",
    "    for i in range(nx):\n",
    "        vel[i,0] = 0.\n",
    "        vel[i,1] = 0.\n",
    "        for j in range(nvort):\n",
    "            rsq = (x[i,0]-xvort[j,0])**2 + (x[i,1]-xvort[j,1])**2 + eps**2\n",
    "            vel[i,0] += gam[j] * (x[i,1]-xvort[j,1]) / rsq\n",
    "            vel[i,1] += -gam[j] * (x[i,0]-xvort[j,0]) / rs\n",
    "            \n",
    "\n",
    "@jit(target='cpu')\n",
    "def induced_velocity2(x, xvort, gam, vel):\n",
    "    nx = x.shape[0]\n",
    "    nvort = xvort.shape[0]\n",
    "    for i in range(nx):\n",
    "        vel[i,0] = 0.\n",
    "        vel[i,1] = 0.\n",
    "        for j in range(nvort):\n",
    "            rsq = (x[i,0]-xvort[j,0])**2 + (x[i,1]-xvort[j,1])**2 + eps**2\n",
    "            vel[i,0] += gam[j] * (x[i,1]-xvort[j,1]) / rsq\n",
    "            vel[i,1] += -gam[j] * (x[i,0]-xvort[j,0]) / rsq\n",
    "\n",
    "\n",
    "\n"
   ]
  },
  {
   "cell_type": "markdown",
   "metadata": {
    "slideshow": {
     "slide_type": "slide"
    }
   },
   "source": [
    "# 3rd version - Numba on the GPU (global memory)"
   ]
  },
  {
   "cell_type": "code",
   "execution_count": 4,
   "metadata": {
    "collapsed": true
   },
   "outputs": [],
   "source": [
    "@cuda.jit('f8[:,:], f8[:,:], f8[:], f8[:,:]')\n",
    "def induced_velocity3(x, xvort, gam, vel):\n",
    "    # eps = float32(1.e-2)\n",
    "    # i, j = cuda.grid(2)\n",
    "    i = cuda.grid(1)\n",
    "    if i < x.shape[0]:\n",
    "        vel[i,0] = float32(0.)\n",
    "        vel[i,1] = float32(0.)\n",
    "        nvort = xvort.shape[0]\n",
    "        for j in range(nvort):\n",
    "            rsq = (x[i,0]-xvort[j,0])**2 + (x[i,1]-xvort[j,1])**2 + eps**2\n",
    "            vel[i,0] += gam[j] * (x[i,1]-xvort[j,1]) / rsq\n",
    "            vel[i,1] += -gam[j] * (x[i,0]-xvort[j,0]) / rsq"
   ]
  },
  {
   "cell_type": "markdown",
   "metadata": {
    "slideshow": {
     "slide_type": "slide"
    }
   },
   "source": [
    "# 4th version - Numba on the GPU (shared memory)"
   ]
  },
  {
   "cell_type": "code",
   "execution_count": 5,
   "metadata": {
    "collapsed": true
   },
   "outputs": [],
   "source": [
    "@cuda.jit('f8[:,:], f8[:,:], f8[:], f8[:,:]')\n",
    "def induced_velocity4(x, xvort, gam, vel):\n",
    "    smem = cuda.shared.array((blksize, 3), dtype=f8)\n",
    "    t = cuda.threadIdx.x\n",
    "    i = cuda.grid(1)\n",
    "    # eps = 1.e-2\n",
    "    nvort = xvort.shape[0]\n",
    "    nx = x.shape[0]\n",
    "    if i < nx:\n",
    "        x0 = x[i,0]\n",
    "        x1 = x[i,1]\n",
    "    xvel = 0\n",
    "    yvel = 0\n",
    "    nvort = xvort.shape[0]\n",
    "    for blk in range((nvort - 1) // blksize + 1):\n",
    "        # load vortex positions and strengths into shared memory\n",
    "        j = blk * blksize + t\n",
    "        if j < nvort:\n",
    "            smem[t,0] = xvort[j,0]\n",
    "            smem[t,1] = xvort[j,1]\n",
    "            smem[t,2] = gam[j]\n",
    "        else:\n",
    "            smem[t,0] = 0\n",
    "            smem[t,1] = 0\n",
    "            smem[t,2] = 0\n",
    "        cuda.syncthreads()\n",
    "\n",
    "        # compute the contributions to the velocity\n",
    "        for k in range(blksize):\n",
    "            rsq = (x0-smem[k,0])**2 + (x1-smem[k,1])**2 + eps**2\n",
    "            xvel +=  smem[k,2] * (x1-smem[k,1]) / rsq\n",
    "            yvel += -smem[k,2] * (x0-smem[k,0]) / rsq\n",
    "        cuda.syncthreads()\n",
    "    if i < nx:\n",
    "        vel[i,0] = xvel\n",
    "        vel[i,1] = yvel"
   ]
  },
  {
   "cell_type": "markdown",
   "metadata": {
    "slideshow": {
     "slide_type": "slide"
    }
   },
   "source": [
    "# And now, let's benchmark the three implementations"
   ]
  },
  {
   "cell_type": "code",
   "execution_count": 6,
   "metadata": {
    "collapsed": false
   },
   "outputs": [
    {
     "name": "stdout",
     "output_type": "stream",
     "text": [
      "n = 16384\n",
      "=================Numpy==================\n",
      "Time: 16.058300 seconds\n",
      "=================Numba==================\n",
      "Time: 3.341227 seconds\n",
      "Difference: 0.000000\n",
      "Speedup: 4.806109\n",
      "==================GPU===================\n",
      "Time: 0.069023 seconds\n",
      "Difference: 0.000000\n",
      "Speedup: 232.650989\n",
      "================GPU smem================\n",
      "Time: 0.019880 seconds\n",
      "Difference: 0.000000\n",
      "Speedup: 807.759279\n"
     ]
    }
   ],
   "source": [
    "def main():\n",
    "    vort = np.array(np.random.rand(2*n), dtype=dtype).reshape((n,2))\n",
    "    gamma = np.array(np.random.rand(n), dtype=dtype)\n",
    "    vel = np.zeros_like(vort)\n",
    "    start = timer()\n",
    "    induced_velocity(vort, vort, gamma, vel)\n",
    "    numpy_time = timer() - start\n",
    "    print(\"n = %d\" % n)\n",
    "    print(\"Numpy\".center(40, \"=\"))\n",
    "    print(\"Time: %f seconds\" % numpy_time)\n",
    "\n",
    "    vel2 = np.zeros_like(vort)\n",
    "    start = timer()\n",
    "    induced_velocity2(vort, vort, gamma, vel2)\n",
    "    numba_time = timer() - start\n",
    "    print(\"Numba\".center(40, \"=\"))\n",
    "    print(\"Time: %f seconds\" % numba_time)\n",
    "    error = np.max(np.max(np.abs(vel2 - vel)))\n",
    "    print(\"Difference: %f\" % error)\n",
    "    print(\"Speedup: %f\" % (numpy_time / numba_time))\n",
    "\n",
    "    stream = cuda.stream()\n",
    "    d_vort = cuda.to_device(vort, stream)\n",
    "    d_gamma = cuda.to_device(gamma, stream)\n",
    "    vel3 = np.zeros_like(vort)\n",
    "    d_vel = cuda.to_device(vel3, stream)\n",
    "    # blockdim = (32,32)\n",
    "    # griddim = (n // blockdim[0], n // blockdim[1])\n",
    "    griddim = (n - 1) // blksize + 1\n",
    "    start = timer()\n",
    "    induced_velocity3[griddim, blksize, stream](d_vort, d_vort, d_gamma, d_vel)\n",
    "    d_vel.to_host(stream)\n",
    "    gpu_time = timer() - start\n",
    "    error = np.max(np.max(np.abs(vel3 - vel)))\n",
    "    print(\"GPU\".center(40, \"=\"))\n",
    "    print(\"Time: %f seconds\" % gpu_time)\n",
    "    print(\"Difference: %f\" % error)\n",
    "    print(\"Speedup: %f\" % (numpy_time / gpu_time))\n",
    "    # print(vel3)\n",
    "\n",
    "    vel4 = np.zeros_like(vort)\n",
    "    d_vel2 = cuda.to_device(vel4, stream)\n",
    "    start = timer()\n",
    "    induced_velocity4[griddim, blksize, stream](d_vort, d_vort, d_gamma, d_vel2)\n",
    "    d_vel2.to_host(stream)\n",
    "    gpu2_time = timer() - start\n",
    "    error = np.max(np.max(np.abs(vel4 - vel)))\n",
    "    print(\"GPU smem\".center(40, \"=\"))\n",
    "    print(\"Time: %f seconds\" % gpu2_time)\n",
    "    print(\"Difference: %f\" % error)\n",
    "    print(\"Speedup: %f\" % (numpy_time / gpu2_time))\n",
    "    # print(\"Expected\".center(40,'-'))\n",
    "    # print(vel)\n",
    "    # print(\"GPU\".center(40,'-'))\n",
    "    # print(vel4)\n",
    "    # print(\"Difference\".center(40,'-'))\n",
    "    # print(vel4 - vel)\n",
    "\n",
    "if __name__ == \"__main__\":\n",
    "    main()\n"
   ]
  }
 ],
 "metadata": {
  "kernelspec": {
   "display_name": "Python 2",
   "language": "python",
   "name": "python2"
  },
  "language_info": {
   "codemirror_mode": {
    "name": "ipython",
    "version": 2
   },
   "file_extension": ".py",
   "mimetype": "text/x-python",
   "name": "python",
   "nbconvert_exporter": "python",
   "pygments_lexer": "ipython2",
   "version": "2.7.11"
  }
 },
 "nbformat": 4,
 "nbformat_minor": 0
}
