{
 "cells": [
  {
   "cell_type": "markdown",
   "metadata": {},
   "source": [
    "# Data Collection for Quasar Detection"
   ]
  },
  {
   "cell_type": "markdown",
   "metadata": {},
   "source": [
    "**Goal:** Gather images of quasars, non-quasar celestial objects, and quasar candidates."
   ]
  },
  {
   "cell_type": "markdown",
   "metadata": {},
   "source": [
    "We will use images collected from the <a href=\"http://www.sdss.org/\">Sloan Digital Sky Survey</a>.\n",
    "\n",
    "Some useful links for the Sloan Digitial Sky Survey:\n",
    "<ul>\n",
    "   <li><a href=\"skyserver.sdss.org/dr12/en/tools/chart/listinfo.aspx\">SDSS DR12 Image List Tool</a></li>\n",
    "  <li><a href=\"https://dr12.sdss.org/fields/\">SDSS DR12 Simple Image Query</a></li>\n",
    "   <li><a href=\"https://data.galaxyzoo.org/\">The Galaxy Zoo</a></li>\n",
    "   <li><a href=\"http://cdsweb.u-strasbg.fr/cgi-bin/Sesame\">Sesame Name Resolver</a></li>\n",
    "   <li><a href=\"http://skyservice.pha.jhu.edu/DR12/ImgCutout/getjpeg.aspx\">DR 12 Image Retrieval Script</a></li>\n",
    "   <li><a href=\"http://www.sdss.org/wp-content/uploads/2016/08/dr13_boss.png\">A Visual Representation of the DR13 Footprint</a></li>\n",
    "   <li><a href=\"http://simbad.u-strasbg.fr/simbad/\">SIMBAD Astrological Database</a></li>\n",
    "   <li><a href=\"http://simbad.u-strasbg.fr/simbad/sim-help?Page=sim-fsam#Sotypes\">Useful SIMBAD Documentation</a></li>\n",
    "</ul> \n",
    "\n",
    "Other useful links about Quasars\n",
    "<ul>\n",
    "    <li><a href=\"http://www.galaxyzooforum.org/index.php?topic=272689.0\">Understanding QSO and Quasars</a></li>\n",
    "    <li><a href=\"https://en.wikipedia.org/wiki/Quasar\">Wikipedia Article on Quasars</a></li>\n",
    "</ul>"
   ]
  },
  {
   "cell_type": "code",
   "execution_count": null,
   "metadata": {
    "collapsed": false
   },
   "outputs": [],
   "source": [
    "from flask import Flask\n",
    "import urllib \n",
    "from urllib import urlencode\n",
    "from urlparse import urlparse\n",
    "from urllib2 import urlopen, Request, HTTPError\n",
    "import urlparse\n",
    "from IPython.display import display, Image\n",
    "import os\n",
    "import matplotlib.pyplot as plt\n",
    "import seaborn as sns\n",
    "import pandas as pd\n",
    "import numpy as np\n",
    "%matplotlib inline\n",
    "from astropy import units as u\n",
    "from astropy.coordinates import SkyCoord\n",
    "from astropy.table import Table\n",
    "from astroquery.sdss import SDSS\n",
    "from astroquery.simbad import Simbad"
   ]
  },
  {
   "cell_type": "markdown",
   "metadata": {},
   "source": [
    "As as test, we will use AstroPy to get a nice image for the project page. We will use SIMBAD to find a random quasar."
   ]
  },
  {
   "cell_type": "code",
   "execution_count": null,
   "metadata": {
    "collapsed": true
   },
   "outputs": [],
   "source": [
    "# Limit the number of results we get from our query. \n",
    "Simbad.ROW_LIMIT = 1000"
   ]
  },
  {
   "cell_type": "code",
   "execution_count": null,
   "metadata": {
    "collapsed": false
   },
   "outputs": [],
   "source": [
    "result = Simbad.query_criteria('region(box,180d +30d, 8d +8d)',otype='QSO')"
   ]
  },
  {
   "cell_type": "code",
   "execution_count": null,
   "metadata": {
    "collapsed": false
   },
   "outputs": [],
   "source": [
    "result"
   ]
  },
  {
   "cell_type": "code",
   "execution_count": null,
   "metadata": {
    "collapsed": false
   },
   "outputs": [],
   "source": [
    "# Choose a random quasar.\n",
    "qnumber = np.random.randint(0,1000)\n",
    "# Get that quasar's coordinates, and format them for SkyCoordinate\n",
    "resultRA = result[qnumber]['RA'].split()\n",
    "RA = '%sh%sm%ss' % (resultRA[0], resultRA[1], resultRA[2])\n",
    "resultDEC = result[qnumber]['DEC'].split()\n",
    "DEC = '%sd%sm%ss' % (resultDEC[0], resultDEC[1], resultDEC[2])\n",
    "# Convert to a SkyCoordinate\n",
    "QCoord = SkyCoord(RA, DEC, frame='icrs')\n",
    "QCoord"
   ]
  },
  {
   "cell_type": "markdown",
   "metadata": {},
   "source": [
    "We will now get an image from the Sloan Digital Sky Survey. The following code follows <a href=\"http://www.astropy.org/astropy-tutorials/Coordinates.html\">this tutorial</a>."
   ]
  },
  {
   "cell_type": "code",
   "execution_count": null,
   "metadata": {
    "collapsed": false
   },
   "outputs": [],
   "source": [
    "impix = 1024\n",
    "imsize = 12*u.arcmin\n",
    "cutoutbaseurl = 'http://skyservice.pha.jhu.edu/DR12/ImgCutout/getjpeg.aspx'\n",
    "query_string = urlencode(dict(ra=QCoord.ra.deg, \n",
    "                                     dec=QCoord.dec.deg, \n",
    "                                     width=impix, height=impix, \n",
    "                                     scale=imsize.to(u.arcsec).value/impix))\n",
    "url = cutoutbaseurl + '?' + query_string\n",
    "urllib.urlretrieve(url, 'Quasar.jpg')"
   ]
  },
  {
   "cell_type": "code",
   "execution_count": null,
   "metadata": {
    "collapsed": false,
    "scrolled": false
   },
   "outputs": [],
   "source": [
    "display(Image('Quasar.jpg'))"
   ]
  },
  {
   "cell_type": "markdown",
   "metadata": {},
   "source": [
    "# Gathering Quasar Images"
   ]
  },
  {
   "cell_type": "markdown",
   "metadata": {},
   "source": [
    "There is a list of 46420 detected quasars from the <a href=\"http://astrostatistics.psu.edu/datasets/SDSS_quasar.html\">Penn State Center for Astrostatistics</a>. We will use their <a href=\"http://astrostatistics.psu.edu/datasets/SDSS_quasar.dat\">SDSS_quasar.dat</a> data set and the <a href=\"http://www.astropy.org/\">AstroPy</a> python package."
   ]
  },
  {
   "cell_type": "code",
   "execution_count": null,
   "metadata": {
    "collapsed": false
   },
   "outputs": [],
   "source": [
    "Quasars = pd.read_fwf('SDSS_quasar.dat')"
   ]
  },
  {
   "cell_type": "code",
   "execution_count": null,
   "metadata": {
    "collapsed": false
   },
   "outputs": [],
   "source": [
    "Quasars.head()"
   ]
  },
  {
   "cell_type": "code",
   "execution_count": null,
   "metadata": {
    "collapsed": false
   },
   "outputs": [],
   "source": [
    "Quasars.tail() # 46420 rows"
   ]
  },
  {
   "cell_type": "code",
   "execution_count": null,
   "metadata": {
    "collapsed": false
   },
   "outputs": [],
   "source": [
    "coord = SkyCoord(str(Quasars.iloc[1]['R.A.'])+'d',str(Quasars.iloc[1]['Dec.'])+'d',frame='icrs')"
   ]
  },
  {
   "cell_type": "code",
   "execution_count": null,
   "metadata": {
    "collapsed": false
   },
   "outputs": [],
   "source": [
    "impix = 120\n",
    "imsize = 1*u.arcmin\n",
    "cutoutbaseurl = 'http://skyservice.pha.jhu.edu/DR12/ImgCutout/getjpeg.aspx'\n",
    "query_string = urllib.parse.urlencode(dict(ra=coord.ra.deg, \n",
    "                                     dec=coord.dec.deg, \n",
    "                                     width=impix, height=impix, \n",
    "                                     scale=imsize.to(u.arcsec).value/impix))\n",
    "url = cutoutbaseurl + '?' + query_string\n",
    "urllib.request.urlretrieve(url, 'Quasar_1.jpg')\n",
    "display(Image('Quasar_1.jpg'))"
   ]
  },
  {
   "cell_type": "code",
   "execution_count": null,
   "metadata": {
    "collapsed": true
   },
   "outputs": [],
   "source": [
    "def get_image(coordinate,name, impix = 120):\n",
    "    '''\n",
    "    Downloads the image from the SDSS DR12 release as a impix pixel by impix pixel image.\n",
    "    \n",
    "    Parameters\n",
    "    ----------\n",
    "    coordinate : coordinate of the celestial object as a Sky Coordinate.\n",
    "    name: The name string to save the image as. It will be saved as 'name.jpg'.\n",
    "    \n",
    "    '''\n",
    "    imsize = 1*u.arcmin\n",
    "    cutoutbaseurl = 'http://skyservice.pha.jhu.edu/DR12/ImgCutout/getjpeg.aspx'\n",
    "    query_string = urllib.parse.urlencode(dict(ra=coordinate.ra.deg, \n",
    "                                     dec=coordinate.dec.deg, \n",
    "                                     width=impix, height=impix, \n",
    "                                     scale=imsize.to(u.arcsec).value/impix))\n",
    "    url = cutoutbaseurl + '?' + query_string\n",
    "    urllib.request.urlretrieve(url, './Images/' + name + '.jpg')"
   ]
  },
  {
   "cell_type": "code",
   "execution_count": null,
   "metadata": {
    "collapsed": false
   },
   "outputs": [],
   "source": [
    "get_image(coord,'test1')\n",
    "# Worked successfully"
   ]
  },
  {
   "cell_type": "code",
   "execution_count": null,
   "metadata": {
    "collapsed": false
   },
   "outputs": [],
   "source": [
    "# Some data manipulation to get Sky Coordinates for each entry.\n",
    "# The application of the SkyCoord function will take time.\n",
    "QuasarLocs = pd.concat([Quasars['R.A.'].apply(lambda x: str(x)+'d '), \n",
    "                        Quasars['Dec.'].apply(lambda x: str(x)+'d')], axis=1)\n",
    "QuasarLocs['Coords']= QuasarLocs[['R.A.','Dec.']].apply(lambda x: SkyCoord(x[0],x[1],frame='icrs'), axis=1)"
   ]
  },
  {
   "cell_type": "code",
   "execution_count": null,
   "metadata": {
    "collapsed": false
   },
   "outputs": [],
   "source": [
    "QuasarLocs.head()"
   ]
  },
  {
   "cell_type": "code",
   "execution_count": null,
   "metadata": {
    "collapsed": false
   },
   "outputs": [],
   "source": [
    "# We will now download these images from SDSS DR12\n",
    "for i in range(46420):\n",
    "    get_image(QuasarLocs['Coords'].iloc[i],name='Quasar_'+str(i))"
   ]
  },
  {
   "cell_type": "markdown",
   "metadata": {},
   "source": [
    "# Gathering Non-quasar Celestial Objects"
   ]
  },
  {
   "cell_type": "markdown",
   "metadata": {},
   "source": [
    "We will use SIMBAD to find objects that are not Quasars or Quasar Candidates. We will sample 200 random regions in the SDSS footprint and take 500 objects from each region."
   ]
  },
  {
   "cell_type": "code",
   "execution_count": null,
   "metadata": {
    "collapsed": true
   },
   "outputs": [],
   "source": [
    "# Limit the number of results we get from our query.\n",
    "Simbad.ROW_LIMIT = 20000"
   ]
  },
  {
   "cell_type": "code",
   "execution_count": null,
   "metadata": {
    "collapsed": false
   },
   "outputs": [],
   "source": [
    "# We will stay in the 8h to 16h +0d to +60 footprint region of SDSS. \n",
    "# Note that there are some regions in SDSS DR 12 and DR 13 outside of this range, \n",
    "# but this range covers a majority of the footprint.\n",
    "# As the box we form is 8d by 8d, we start at 124d and end at 236d for longitude,\n",
    "# and start as +4d to +56d in latitude.\n",
    "NonQuasars = pd.DataFrame()\n",
    "randcoord =[]\n",
    "for i in range(200):\n",
    "    randcoord.append(str(np.random.randint(128,237))+'d +' + str(np.random.randint(4,57))+'d')\n",
    "    try: \n",
    "        # For otype, QSO are quasars, Q? are quasar candidates, and LeQ are gravitationally lenses quasars.\n",
    "        result = Simbad.query_criteria('region(box,' + randcoord[i] + ', 4d +4d)','otype != QSO','otype != Q?','otype != LeQ')\n",
    "        sample = result.to_pandas().sample(500)\n",
    "        NonQuasars = pd.concat([NonQuasars,sample],axis=0)\n",
    "        if i % 10 == 0:\n",
    "            print('At attempt %s' % i)\n",
    "    except:\n",
    "        print('Attempt Failed... retrying')\n",
    "        i = i-1        "
   ]
  },
  {
   "cell_type": "code",
   "execution_count": null,
   "metadata": {
    "collapsed": false
   },
   "outputs": [],
   "source": [
    "NonQuasars"
   ]
  },
  {
   "cell_type": "code",
   "execution_count": null,
   "metadata": {
    "collapsed": false,
    "scrolled": true
   },
   "outputs": [],
   "source": [
    "# Checking for duplicates, which is a possibility in this process.\n",
    "NonQuasars[NonQuasars.duplicated()]"
   ]
  },
  {
   "cell_type": "code",
   "execution_count": null,
   "metadata": {
    "collapsed": true
   },
   "outputs": [],
   "source": [
    "# As duplicates were found, we will drop all but the first.\n",
    "NonQuasars = NonQuasars.drop_duplicates(keep='first')"
   ]
  },
  {
   "cell_type": "code",
   "execution_count": null,
   "metadata": {
    "collapsed": false
   },
   "outputs": [],
   "source": [
    "# Reindexing\n",
    "NonQuasars.reset_index(inplace=True)\n",
    "NonQuasars.drop('index', axis=1, inplace=True)"
   ]
  },
  {
   "cell_type": "code",
   "execution_count": null,
   "metadata": {
    "collapsed": false
   },
   "outputs": [],
   "source": [
    "# Saving a copy of the data to accompany the images.\n",
    "NonQuasars.to_csv('NonQuasarsData.csv',index=False)"
   ]
  },
  {
   "cell_type": "code",
   "execution_count": null,
   "metadata": {
    "collapsed": false
   },
   "outputs": [],
   "source": [
    "NonQuasars.head()"
   ]
  },
  {
   "cell_type": "code",
   "execution_count": null,
   "metadata": {
    "collapsed": false
   },
   "outputs": [],
   "source": [
    "NonQuasars.tail() #94670 rows"
   ]
  },
  {
   "cell_type": "code",
   "execution_count": null,
   "metadata": {
    "collapsed": true
   },
   "outputs": [],
   "source": [
    "def RAtoICRS(RAValue):\n",
    "    '''\n",
    "    Converts SIMBAD Right Ascent (RA) format to ICRS format.\n",
    "    \n",
    "    Parameters\n",
    "    ----------\n",
    "    RAValue : A SIMBAD Right Ascent value in \"X Y Z\" format for X hours, Y minutes, and Z seconds.\n",
    "    \n",
    "    '''\n",
    "    if len(RAValue.split()) == 1:\n",
    "        return '%sh' % (RAValue.split()[0])\n",
    "    elif len(RAValue.split()) == 2:\n",
    "        return '%sh%sm' % (RAValue.split()[0], RAValue.split()[1])\n",
    "    elif len(RAValue.split()) == 3: \n",
    "        return '%sh%sm%ss' % (RAValue.split()[0], RAValue.split()[1], RAValue.split()[2])\n",
    "    else: \n",
    "        return np.nan()\n",
    "    \n",
    "def DECtoICRS(DECValue):\n",
    "    '''\n",
    "    Converts SIMBAD Declination (DEC) format to ICRS format.\n",
    "    \n",
    "    Parameters\n",
    "    ----------\n",
    "    RAValue : A SIMBAD Declination value in \"+X Y Z\" format for X degrees, Y minutes, and Z seconds.\n",
    "    \n",
    "    '''\n",
    "    if len(DECValue.split()) == 1:\n",
    "        return '%sd' % (DECValue.split()[0])\n",
    "    elif len(DECValue.split()) == 2:\n",
    "        return '%sd%sm' % (DECValue.split()[0], DECValue.split()[1])\n",
    "    elif len(DECValue.split()) == 3: \n",
    "        return '%sd%sm%ss' % (DECValue.split()[0], DECValue.split()[1], DECValue.split()[2])\n",
    "    else: \n",
    "        return np.nan()"
   ]
  },
  {
   "cell_type": "code",
   "execution_count": null,
   "metadata": {
    "collapsed": false
   },
   "outputs": [],
   "source": [
    "# Data manipulation to get Sky Coordinates for each entry.\n",
    "# Note that SIMBAD gives the values separated as hours, minutes, seconds for RA and degrees, minutes, seconds for Dec\n",
    "NonQuasarLocs = pd.concat([NonQuasars['RA'].apply(RAtoICRS), \n",
    "                           NonQuasars['DEC'].apply(DECtoICRS)], axis=1)\n",
    "NonQuasarLocs['Coords']= NonQuasarLocs[['RA','DEC']].apply(lambda x: SkyCoord(x[0],x[1],frame='icrs'), axis=1)"
   ]
  },
  {
   "cell_type": "code",
   "execution_count": null,
   "metadata": {
    "collapsed": false
   },
   "outputs": [],
   "source": [
    "NonQuasarLocs.head()"
   ]
  },
  {
   "cell_type": "code",
   "execution_count": null,
   "metadata": {
    "collapsed": false
   },
   "outputs": [],
   "source": [
    "# We will now download these images from SDSS DR12\n",
    "for i in range(94670):\n",
    "    get_image(NonQuasarLocs['Coords'].iloc[i],name='NonQ_'+str(i))"
   ]
  },
  {
   "cell_type": "markdown",
   "metadata": {},
   "source": [
    "# Gathering Quasar Candidates"
   ]
  },
  {
   "cell_type": "markdown",
   "metadata": {},
   "source": [
    "We will now use SIMBAD to identify quasar candidates for analysis with our trained model."
   ]
  },
  {
   "cell_type": "code",
   "execution_count": null,
   "metadata": {
    "collapsed": false
   },
   "outputs": [],
   "source": [
    "# As with the Non-quasar data, we will stay in the 8h to 16h +0d to +60 footprint \n",
    "# region of SDSS. Note that there are some regions in SDSS DR 12 and DR 13 outside \n",
    "# of this range, but this range covers a majority of the footprint.\n",
    "# Due to timeout issues from SIMBAD, we will use smaller regions\n",
    "# of width 10d by +6d to gather the candidates.\n",
    "QuasarCandidates = pd.DataFrame()\n",
    "for i in range(12): # Separate longitude into 12 segments of length 10d\n",
    "    for j in range(10): # Separate latitude into 10 segments of length 6d\n",
    "            try: \n",
    "                # For otype Q? are quasar candidates.\n",
    "                result = Simbad.query_criteria('region(box,' + str(125+10*i)+'d +' + str(3+6*j) + 'd' + ', 5d +3d)','otype = Q?')\n",
    "                QuasarCandidates = pd.concat([QuasarCandidates,result.to_pandas()],axis=0)\n",
    "                if (i*10+j) % 20 == 0:\n",
    "                    print('At attempt %s' % (i*10+j))\n",
    "            except:\n",
    "                print('Attempt Failed at i=%s and j=%s.' % (i,j))"
   ]
  },
  {
   "cell_type": "code",
   "execution_count": null,
   "metadata": {
    "collapsed": false
   },
   "outputs": [],
   "source": [
    "QuasarCandidates.head()"
   ]
  },
  {
   "cell_type": "code",
   "execution_count": null,
   "metadata": {
    "collapsed": false
   },
   "outputs": [],
   "source": [
    "QuasarCandidates.tail()"
   ]
  },
  {
   "cell_type": "code",
   "execution_count": null,
   "metadata": {
    "collapsed": false
   },
   "outputs": [],
   "source": [
    "# Checking for duplication\n",
    "QuasarCandidates[QuasarCandidates.duplicated()]"
   ]
  },
  {
   "cell_type": "code",
   "execution_count": null,
   "metadata": {
    "collapsed": false
   },
   "outputs": [],
   "source": [
    "# Reindexing\n",
    "QuasarCandidates.reset_index(inplace=True)\n",
    "QuasarCandidates.drop('index', axis=1, inplace=True)"
   ]
  },
  {
   "cell_type": "code",
   "execution_count": null,
   "metadata": {
    "collapsed": false
   },
   "outputs": [],
   "source": [
    "QuasarCandidates.tail() # 5418 rows"
   ]
  },
  {
   "cell_type": "code",
   "execution_count": null,
   "metadata": {
    "collapsed": false
   },
   "outputs": [],
   "source": [
    "# Saving a copy of the data to accompany the images.\n",
    "QuasarCandidates.to_csv('QuasarCandidatesData.csv',index=False)"
   ]
  },
  {
   "cell_type": "code",
   "execution_count": null,
   "metadata": {
    "collapsed": true
   },
   "outputs": [],
   "source": [
    "# Data manipulation to get Sky Coordinates for each entry.\n",
    "# Note that SIMBAD gives the values separated as hours, minutes, seconds for RA and degrees, minutes, seconds for Dec\n",
    "QuasarCandidateLocs = pd.concat([QuasarCandidates['RA'].apply(RAtoICRS), \n",
    "                           QuasarCandidates['DEC'].apply(DECtoICRS)], axis=1)\n",
    "QuasarCandidateLocs['Coords']= QuasarCandidateLocs[['RA','DEC']].apply(lambda x: SkyCoord(x[0],x[1],frame='icrs'), axis=1)"
   ]
  },
  {
   "cell_type": "code",
   "execution_count": null,
   "metadata": {
    "collapsed": false
   },
   "outputs": [],
   "source": [
    "QuasarCandidateLocs.head()"
   ]
  },
  {
   "cell_type": "code",
   "execution_count": null,
   "metadata": {
    "collapsed": true
   },
   "outputs": [],
   "source": [
    "# We will now download these images from SDSS DR12\n",
    "for i in range(5418):\n",
    "    get_image(QuasarCandidateLocs['Coords'].iloc[i],name='QuasarCandidate_'+str(i))"
   ]
  }
 ],
 "metadata": {
  "anaconda-cloud": {},
  "kernelspec": {
   "display_name": "Python 2",
   "language": "python",
   "name": "python2"
  },
  "language_info": {
   "codemirror_mode": {
    "name": "ipython",
    "version": 2
   },
   "file_extension": ".py",
   "mimetype": "text/x-python",
   "name": "python",
   "nbconvert_exporter": "python",
   "pygments_lexer": "ipython2",
   "version": "2.7.11"
  }
 },
 "nbformat": 4,
 "nbformat_minor": 1
}
