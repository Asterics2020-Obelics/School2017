{
 "cells": [
  {
   "cell_type": "markdown",
   "metadata": {},
   "source": [
    "# Scikit-CUDA example of Matrix Multiplication\n",
    "\n",
    "Compare the complexity of this code with the code from the PyCUDA example where we compile C code. By using a pre-optimized library, we can cut down easily use the GPU to do our calculations."
   ]
  },
  {
   "cell_type": "code",
   "execution_count": 1,
   "metadata": {
    "collapsed": false
   },
   "outputs": [
    {
     "name": "stdout",
     "output_type": "stream",
     "text": [
      "\n",
      "Performance for performing matrix multiplicate of 4096 x 4096 matrices of several data types on GPU:\n",
      "Testing matrix multiplication for type float32\n",
      "Testing matrix multiplication for type complex64\n",
      "Testing matrix multiplication for type float64\n",
      "Testing matrix multiplication for type complex128\n",
      "        time elapsed: 6.375s\n"
     ]
    }
   ],
   "source": [
    "\"\"\"\n",
    "Demonstrates multiplication of two matrices on the GPU.\n",
    "\n",
    "Source: https://github.com/lebedov/scikit-cuda/blob/master/demos/mdot_demo.py\n",
    "\n",
    "To see more examples of using scikit-cuda, see \n",
    "https://github.com/lebedov/scikit-cuda/tree/master/demos\n",
    "\"\"\"\n",
    "\n",
    "import pycuda.autoinit\n",
    "import pycuda.gpuarray as gpuarray\n",
    "import pycuda.driver as drv\n",
    "import numpy as np\n",
    "\n",
    "import skcuda.linalg as culinalg\n",
    "import skcuda.misc as cumisc\n",
    "\n",
    "import cProfile as profile\n",
    "from timeit import default_timer as timer\n",
    "\n",
    "culinalg.init()\n",
    "\n",
    "# Double precision is only supported by devices with compute\n",
    "# capability >= 1.3:\n",
    "import string\n",
    "demo_types = [np.float32, np.complex64]\n",
    "if cumisc.get_compute_capability(pycuda.autoinit.device) >= 1.3:\n",
    "    demo_types.extend([np.float64, np.complex128])\n",
    "\n",
    "n = 4096\n",
    "\n",
    "def matrix_multiply_GPU():\n",
    "    for t in demo_types:\n",
    "        print 'Testing matrix multiplication for type ' + str(np.dtype(t))\n",
    "        \n",
    "        #Ensure that object type is correct\n",
    "        if np.iscomplexobj(t()):\n",
    "            a = np.asarray(np.random.rand(n,n)+1j*np.random.rand(n,n), t)\n",
    "            b = np.asarray(np.random.rand(n,n)+1j*np.random.rand(n,n), t)\n",
    "        else:\n",
    "            a = np.asarray(np.random.rand(n,n), t)\n",
    "            b = np.asarray(np.random.rand(n,n), t)\n",
    "\n",
    "        #Transferring data to GPU\n",
    "        a_gpu = gpuarray.to_gpu(a)\n",
    "        b_gpu = gpuarray.to_gpu(b)\n",
    "\n",
    "        c_gpu = culinalg.dot(a_gpu, b_gpu) #scikit-cuda wrapper takes care of the operation!\n",
    "        \n",
    "def matrix_multiply_CPU():\n",
    "    for t in demo_types:\n",
    "        print 'Testing matrix multiplication for type ' + str(np.dtype(t))\n",
    "        if np.iscomplexobj(t()):\n",
    "            a = np.asarray(np.random.rand(n,n)+1j*np.random.rand(n,n), t)\n",
    "            b = np.asarray(np.random.rand(n,n)+1j*np.random.rand(n,n), t)\n",
    "        else:\n",
    "            a = np.asarray(np.random.rand(n,n), t)\n",
    "            b = np.asarray(np.random.rand(n,n), t)\n",
    "\n",
    "        c = np.dot(a, b)\n",
    "        \n",
    "if __name__ == '__main__':\n",
    "    import timeit\n",
    "\n",
    "#     profile.run(\"matrix_multiply_GPU()\", sort=\"time\")\n",
    "#     profile.run(\"matrix_multiply_CPU()\", sort=\"time\")\n",
    "    print '\\nPerformance for performing matrix multiplicate of 4096 x 4096 matrices of several data types on GPU:'\n",
    "    ts = timer()\n",
    "    matrix_multiply_GPU()\n",
    "    te = timer()\n",
    "    elapsed = te - ts\n",
    "    fmt = '%20s: %s'\n",
    "    print fmt % ('time elapsed', '%.3fs' % (te - ts))\n",
    "\n",
    "\n"
   ]
  },
  {
   "cell_type": "code",
   "execution_count": null,
   "metadata": {
    "collapsed": true
   },
   "outputs": [],
   "source": []
  },
  {
   "cell_type": "code",
   "execution_count": null,
   "metadata": {
    "collapsed": true
   },
   "outputs": [],
   "source": []
  },
  {
   "cell_type": "markdown",
   "metadata": {},
   "source": [
    "### Compare with how long it takes using CPU"
   ]
  },
  {
   "cell_type": "code",
   "execution_count": 2,
   "metadata": {
    "collapsed": false
   },
   "outputs": [
    {
     "name": "stdout",
     "output_type": "stream",
     "text": [
      "\n",
      "Performance for performing matrix multiplicate of 4096 x 4096 matrices of several data types on CPU:\n",
      "Testing matrix multiplication for type float32\n",
      "Testing matrix multiplication for type complex64\n",
      "Testing matrix multiplication for type float64\n",
      "Testing matrix multiplication for type complex128\n",
      "        time elapsed: 96.311s\n"
     ]
    }
   ],
   "source": [
    "print '\\nPerformance for performing matrix multiplicate of 4096 x 4096 matrices of several data types on CPU:'\n",
    "ts = timer()\n",
    "matrix_multiply_CPU()\n",
    "te = timer()\n",
    "elapsed = te - ts\n",
    "fmt = '%20s: %s'\n",
    "print fmt % ('time elapsed', '%.3fs' % (te - ts))"
   ]
  },
  {
   "cell_type": "code",
   "execution_count": null,
   "metadata": {
    "collapsed": true
   },
   "outputs": [],
   "source": []
  },
  {
   "cell_type": "code",
   "execution_count": null,
   "metadata": {
    "collapsed": true
   },
   "outputs": [],
   "source": []
  }
 ],
 "metadata": {
  "kernelspec": {
   "display_name": "Python 2",
   "language": "python",
   "name": "python2"
  },
  "language_info": {
   "codemirror_mode": {
    "name": "ipython",
    "version": 2
   },
   "file_extension": ".py",
   "mimetype": "text/x-python",
   "name": "python",
   "nbconvert_exporter": "python",
   "pygments_lexer": "ipython2",
   "version": "2.7.11"
  }
 },
 "nbformat": 4,
 "nbformat_minor": 0
}
