{
 "cells": [
  {
   "cell_type": "markdown",
   "metadata": {},
   "source": [
    "# Profiling and Optimization Hands-On"
   ]
  },
  {
   "cell_type": "code",
   "execution_count": 1,
   "metadata": {
    "collapsed": true
   },
   "outputs": [],
   "source": [
    "import numpy as np\n",
    "from math import sin, cos\n",
    "import matplotlib.pyplot as plt\n",
    "%matplotlib inline"
   ]
  },
  {
   "cell_type": "markdown",
   "metadata": {},
   "source": [
    "## Task 1: which is faster?\n",
    "\n",
    "Given a large 2D array, we will explore different ways to create the array and to calculate its mean. Determine which one is fastest, using the `%timeit` notebook function."
   ]
  },
  {
   "cell_type": "markdown",
   "metadata": {},
   "source": [
    "### setup: define our 2D array:\n",
    "\n",
    "We'll make some dummy test data that looks like:\n",
    "\n",
    "$M_{ij} = \\sin(i)\\cos(0.1 j)$\n",
    "\n",
    "and we will construct this array in multiple ways."
   ]
  },
  {
   "cell_type": "code",
   "execution_count": 2,
   "metadata": {
    "collapsed": true
   },
   "outputs": [],
   "source": [
    "def create_array_loop(N,M):\n",
    "    arr = []\n",
    "    for y in range(M):\n",
    "        row = []\n",
    "        for x in range(N):\n",
    "            row.append(sin(x)*cos(0.1*y))\n",
    "        arr.append(row)\n",
    "    return arr\n",
    "\n",
    "def create_array_list(N,M):\n",
    "    \"\"\"a 2D array using a list-comprehension\"\"\"\n",
    "    return [[sin(x)*cos(0.1*y) for x in range(N)] for y in range(M)]  \n",
    "\n",
    "def create_array_np(N,M):\n",
    "    \"\"\" a 2D array using numpy\"\"\"\n",
    "    X,Y = np.meshgrid(np.arange(N), np.arange(M))\n",
    "    return np.sin(X)*np.cos(0.1*Y)"
   ]
  },
  {
   "cell_type": "markdown",
   "metadata": {},
   "source": [
    "Let's first just plot the arrays, to see if they are the same:"
   ]
  },
  {
   "cell_type": "code",
   "execution_count": 3,
   "metadata": {},
   "outputs": [
    {
     "data": {
      "text/plain": [
       "<matplotlib.image.AxesImage at 0x115498390>"
      ]
     },
     "execution_count": 3,
     "metadata": {},
     "output_type": "execute_result"
    },
    {
     "data": {
      "image/png": "[encoded data removed]",
      "text/plain": [
       "<matplotlib.figure.Figure at 0x114d78ba8>"
      ]
     },
     "metadata": {},
     "output_type": "display_data"
    }
   ],
   "source": [
    "N=10; M=30  # our array dimensions\n",
    "plt.figure(figsize=(12,5))\n",
    "plt.subplot(1,3,1)\n",
    "plt.imshow( create_array_loop(N,M))\n",
    "plt.subplot(1,3,2)\n",
    "plt.imshow( create_array_list(N,M))\n",
    "plt.subplot(1,3,3)\n",
    "plt.imshow( create_array_np(N,M))"
   ]
  },
  {
   "cell_type": "markdown",
   "metadata": {},
   "source": [
    "### Task: determine which array creation routine is fastest\n",
    "\n",
    "And make a plot of the speed of each!   Does the result change much when the array size becomes larger? Try much larger sizes for N and M\n",
    "\n",
    "Hint: use the `%timeit -o` magic function to have `%timeit` return results (see the timeit help)"
   ]
  },
  {
   "cell_type": "markdown",
   "metadata": {},
   "source": [
    "### SOLUTION:"
   ]
  },
  {
   "cell_type": "code",
   "execution_count": null,
   "metadata": {
    "collapsed": true
   },
   "outputs": [],
   "source": []
  },
  {
   "cell_type": "markdown",
   "metadata": {},
   "source": [
    "## Task 2: determine the fastest way to find the mean of our array\n",
    "\n",
    "note that `create_array_list()` and `create_array_loop` both return a list-of-lists, while `create_array_np` returns a 2D numpy array.   There are multiple ways to compute the mean of these arrays.  See again which is fastest!\n",
    "\n",
    "try at least:\n",
    "\n",
    "1. using the built-in python `sum` function and either a for-loop or list-comprehension\n",
    "2. using pure numpy (e.g. `array.mean()`)\n",
    "3. other ways you can think of!"
   ]
  },
  {
   "cell_type": "markdown",
   "metadata": {},
   "source": [
    "### SOLUTION"
   ]
  },
  {
   "cell_type": "code",
   "execution_count": null,
   "metadata": {
    "collapsed": true
   },
   "outputs": [],
   "source": []
  },
  {
   "cell_type": "markdown",
   "metadata": {},
   "source": [
    "## Task 3: Speed up a real-world problem!\n",
    "\n",
    "Here your task is to speed up an algorithm for finding the steady state solution to the *Heat Equation* in 2D using a finite-difference method, given an initial temperature distribution.  \n",
    "\n",
    "the heat equation is defined as:\n",
    "\n",
    "$$ \\frac{du}{dt}  = \\alpha \\nabla^2 u$$\n",
    "\n",
    "Where $u$ is the temperature. This can be approximated simply by iterating in time and approximating the spatial gradient using neighboring array elements. For time-step $k$ of width $\\Delta t$ and spatial width $\\Delta x$:\n",
    "\n",
    "$$ \\frac{u^{k+1}_{ij}-u^k_{ij}}{\\Delta t}  = \\frac{\\alpha}{(\\Delta x)^2} \\left( u^k_{i,j-1} + u^k_{i-1,j} - 4 u^k_{i,j} + u^k_{i+1,j} + u^k_{i,j+1}\\right)$$\n",
    "\n",
    "\n",
    "Below we give a naïeve way to solve this, using for-loops (which are not ideal in python). See if you can speed this up by either:\n",
    "\n",
    "1. re-writing the code to use numpy to get rid of the spatial loops \n",
    "2. using cython or numba to compile the function (may need to experiment also with some of their compile options)\n",
    "\n",
    "You should also try to see what the memory usage is! (hint: use the memory_profiler module). Is there a memory leak?"
   ]
  },
  {
   "cell_type": "markdown",
   "metadata": {},
   "source": [
    "#### the setup:\n",
    "set up the initial condtions (defining the temperature at the boundary, as well as some hot-spots that are initially at a particular temperature)"
   ]
  },
  {
   "cell_type": "code",
   "execution_count": 14,
   "metadata": {},
   "outputs": [
    {
     "data": {
      "text/plain": [
       "<matplotlib.text.Text at 0x11caaf5f8>"
      ]
     },
     "execution_count": 14,
     "metadata": {},
     "output_type": "execute_result"
    },
    {
     "data": {
      "image/png": "[encoded data removed]",
      "text/plain": [
       "<matplotlib.figure.Figure at 0x1157a6978>"
      ]
     },
     "metadata": {},
     "output_type": "display_data"
    }
   ],
   "source": [
    "N=100; M=100  # define the spatial grid\n",
    "grid = np.zeros(shape=(N,M))\n",
    "grid[10:40,:] = 100 # a hot-spot on the border\n",
    "grid[1:-1,1:-1] = 50 # some initial temperature in the middle\n",
    "grid[60:80, 40:60] = 150 # a hot-spot initially heated at the start, that will cool down\n",
    "\n",
    "plt.pcolormesh(grid)\n",
    "plt.colorbar()\n",
    "plt.title(\"initial conditions\")"
   ]
  },
  {
   "cell_type": "code",
   "execution_count": 63,
   "metadata": {
    "collapsed": true
   },
   "outputs": [],
   "source": [
    "def solve_heat_equation_loops(init_cond, iterations=100, delta_x=1.0, alpha=1.0):\n",
    "\n",
    "    delta_t = delta_x**2/(4*alpha)\n",
    "    prev = init_cond.copy()\n",
    "    cur = init_cond.copy()\n",
    "    N,M = init_cond.shape\n",
    "\n",
    "    for k in range(iterations):\n",
    "        for i in range(1,N-1):\n",
    "            for j in range(1,M-1):\n",
    "                cur[i,j] = prev[i,j] + alpha*delta_t/delta_x**2 * (prev[i,j-1] \n",
    "                                                                   + prev[i-1,j] \n",
    "                                                                   - 4*prev[i,j]\n",
    "                                                                   + prev[i,j+1]\n",
    "                                                                   + prev[i+1,j])\n",
    "                prev[i,j] = cur[i,j]\n",
    "\n",
    "    return cur\n",
    "                                                                \n"
   ]
  },
  {
   "cell_type": "markdown",
   "metadata": {},
   "source": [
    "We'll also define a convenience function to test the results (you can use this same plotter with your own solver)"
   ]
  },
  {
   "cell_type": "code",
   "execution_count": 64,
   "metadata": {
    "collapsed": true
   },
   "outputs": [],
   "source": [
    "def plot_heat_equation(solver=solve_heat_equation_loops):\n",
    "\n",
    "    iters = [2,10,100,1000]\n",
    "    fig, axes = plt.subplots(1,len(iters), figsize=(15,3))\n",
    "\n",
    "    for ii, iterations in enumerate(iters):\n",
    "        result = solver(init_cond=grid, iterations=iterations)\n",
    "        axes[ii].pcolormesh(result)\n",
    "        axes[ii].set_title(\"{} iterations\".format(iterations))\n"
   ]
  },
  {
   "cell_type": "code",
   "execution_count": 65,
   "metadata": {},
   "outputs": [
    {
     "data": {
      "image/png": "[encoded data removed]",
      "text/plain": [
       "<matplotlib.figure.Figure at 0x116d1d470>"
      ]
     },
     "metadata": {},
     "output_type": "display_data"
    }
   ],
   "source": [
    "plot_heat_equation(solver=solve_heat_equation_loops)"
   ]
  },
  {
   "cell_type": "markdown",
   "metadata": {},
   "source": [
    "Note that our code is quite slow... \n",
    "\n",
    "#### Your turn!\n",
    "\n",
    "***Write an improved verson, and show how much faster it is, as well as how much memory it uses:***"
   ]
  },
  {
   "cell_type": "code",
   "execution_count": 18,
   "metadata": {
    "collapsed": true
   },
   "outputs": [],
   "source": [
    "def my_heat_equation_solver(init_cond, iterations=100, delta_x=1.0, alpha=1.0):\n",
    "    ## your code here\n",
    "    return init_cond # replace with real return value"
   ]
  },
  {
   "cell_type": "code",
   "execution_count": 32,
   "metadata": {
    "collapsed": true
   },
   "outputs": [],
   "source": [
    "#plot_heat_equation(solver=my_heat_equation_solver)"
   ]
  },
  {
   "cell_type": "code",
   "execution_count": null,
   "metadata": {
    "collapsed": true
   },
   "outputs": [],
   "source": []
  }
 ],
 "metadata": {
  "kernelspec": {
   "display_name": "Python 3",
   "language": "python",
   "name": "python3"
  },
  "language_info": {
   "codemirror_mode": {
    "name": "ipython",
    "version": 3
   },
   "file_extension": ".py",
   "mimetype": "text/x-python",
   "name": "python",
   "nbconvert_exporter": "python",
   "pygments_lexer": "ipython3",
   "version": "3.6.1"
  }
 },
 "nbformat": 4,
 "nbformat_minor": 2
}
