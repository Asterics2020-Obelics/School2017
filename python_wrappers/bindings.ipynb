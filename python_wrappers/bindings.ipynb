{
 "cells": [
  {
   "cell_type": "markdown",
   "metadata": {
    "slideshow": {
     "slide_type": "slide"
    }
   },
   "source": [
    "![Astronomy ESFRI & RESERCH Infrastrucutre Cluster ASTERICS 653477](asterics_wrapper_intro.png)"
   ]
  },
  {
   "cell_type": "raw",
   "metadata": {
    "slideshow": {
     "slide_type": "slide"
    }
   },
   "source": [
    "prompt$> git clone https://github.com/Asterics2020-Obelics/School2017.git\n",
    "prompt$> cd School2017/python_wrappers/\n",
    "prompt$> jupyter-notebook\n",
    "\n"
   ]
  },
  {
   "cell_type": "markdown",
   "metadata": {
    "slideshow": {
     "slide_type": "slide"
    }
   },
   "source": [
    "## Python programming\n",
    "<img src=\"./python.png\",align=\"left\", width=200,height=60>"
   ]
  },
  {
   "cell_type": "markdown",
   "metadata": {
    "slideshow": {
     "slide_type": "subslide"
    }
   },
   "source": [
    "### High level programming environment:\n",
    " - Rapid prototype\n",
    " - Interactivity\n",
    " - Scripting\n",
    " - Debugging\n",
    " - Testing\n",
    " \n",
    "### Component gluing:\n",
    " \n",
    " - A common interface can be provided to different C/C++ libraries\n",
    " - C/C++ libraries become Python module"
   ]
  },
  {
   "cell_type": "markdown",
   "metadata": {
    "slideshow": {
     "slide_type": "slide"
    }
   },
   "source": [
    "## C/C++ Programming\n",
    "\n",
    "<img src=\"./c-c-plus-plus.png\",align=\"left\", width=200,height=60>"
   ]
  },
  {
   "cell_type": "markdown",
   "metadata": {
    "slideshow": {
     "slide_type": "subslide"
    }
   },
   "source": [
    "\n",
    "\n",
    "### The good\n",
    " - High performance\n",
    " - Low-level system programming\n",
    " \n",
    "### The bad\n",
    " - The compile/execute developement cycle\n",
    " - Non-interactive\n",
    " \n",
    "### The ugly\n",
    " - Writing user-interface\n",
    " - Writing GUI\n",
    " - High level programming\n",
    " - System integration (gluing components together)\n",
    " \n",
    " ************"
   ]
  },
  {
   "cell_type": "markdown",
   "metadata": {
    "slideshow": {
     "slide_type": "slide"
    }
   },
   "source": [
    "## Motivations for using Python wrapper\n",
    "\n",
    "<img src=\"./jungle-book.jpg\",align=\"left\", width=200,height=60>"
   ]
  },
  {
   "cell_type": "markdown",
   "metadata": {
    "slideshow": {
     "slide_type": "subslide"
    }
   },
   "source": [
    " - High performance of C/C++\n",
    " - To use well tested/known algorithms written in C/C++\n",
    " - Writing extension module (i.e. Numpy)\n",
    " - ...\n",
    " \n",
    " -----------------------------\n"
   ]
  },
  {
   "cell_type": "markdown",
   "metadata": {
    "slideshow": {
     "slide_type": "slide"
    }
   },
   "source": [
    "## Extending VS Embedding\n",
    "\n",
    "### Extending\n",
    "- extend the functionality of Python by attaching a library of C functions to it\n",
    "\n",
    "### Embedding\n",
    "- Enrich your C/C++ application by embedding Python in it. \n",
    "- Embedding provides your application with the ability to implement some of the functionality of your application in Python rather than C or C++"
   ]
  },
  {
   "cell_type": "code",
   "execution_count": null,
   "metadata": {
    "collapsed": true,
    "slideshow": {
     "slide_type": "subslide"
    }
   },
   "outputs": [],
   "source": [
    "# file embedding.c\n",
    "#include <Python.h>\n",
    "\n",
    "int main(int argc, char *argv[])\n",
    "{\n",
    "  Py_Initialize();\n",
    "  PyRun_SimpleString(\"from time import time,ctime\\n\"\n",
    "                     \"print('Today is',ctime(time()))\\n\");\n",
    "  Py_Finalize();\n",
    "  return 0;\n",
    "}\n"
   ]
  },
  {
   "cell_type": "code",
   "execution_count": null,
   "metadata": {
    "collapsed": true,
    "scrolled": true,
    "slideshow": {
     "slide_type": "fragment"
    }
   },
   "outputs": [],
   "source": [
    "! gcc embedding.c `python3.5-config --cflags` `python3.5-config --ldflags` -o emmbedding\n",
    "! ./embedding"
   ]
  },
  {
   "cell_type": "markdown",
   "metadata": {
    "slideshow": {
     "slide_type": "slide"
    }
   },
   "source": [
    "## Write Python wrapper manually\n",
    "- ctypes, a foreign function library for Python.\n",
    "    Go to [ctype notebook](Simple/simple.ipynb \"simple\").\n",
    "- Python C API.\n",
    "    Go to [Python C API notebook](C_API/api.ipynb \"Python C API notebook\").\n",
    "- [cython](http://docs.cython.org/en/latest/src/tutorial/clibraries.html)\n",
    "\n",
    "##  Automatic binding generators for C/C++\n",
    "- Swig:http://swig.org/\n",
    "    - Go to [swig with value notebook](Swig/swig.ipynb \"simple\").\n",
    "    - Go to [swig with list notebook](Swig/Pointer/swig_pointer.ipynb \"list\").\n",
    "    \n",
    "- [Boost](http://www.boost.org)\n",
    "- [pybind11](https://github.com/pybind/pybind11)\n",
    "\n",
    "-----------------------"
   ]
  },
  {
   "cell_type": "markdown",
   "metadata": {
    "slideshow": {
     "slide_type": "slide"
    }
   },
   "source": [
    "![wrapper bench](bench.png)"
   ]
  },
  {
   "cell_type": "markdown",
   "metadata": {
    "slideshow": {
     "slide_type": "subslide"
    }
   },
   "source": [
    "### References\n",
    "\n",
    "[Wrapping C/C++ for Python ](http://intermediate-and-advanced-software-carpentry.readthedocs.io/en/latest/c++-wrapping.html)\n",
    "\n",
    "[Extending Python2 with C or C++](https://docs.python.org/2/extending/extending.html)\n",
    "\n",
    "[Extending Python3 with C or C++](https://docs.python.org/3/extending/extending.html)\n",
    "\n",
    "\n",
    "[Integrating Python with other langages](https://wiki.python.org/moin/IntegratingPythonWithOtherLanguages)\n"
   ]
  },
  {
   "cell_type": "markdown",
   "metadata": {
    "slideshow": {
     "slide_type": "subslide"
    }
   },
   "source": [
    "## To summarise\n",
    "* Several techniques exist to wrap C/C++ code for Python.\n",
    "* Manually: \n",
    " - Python C API\n",
    " - cytpes\n",
    " - cython\n",
    " - pyrex\n",
    " - ..."
   ]
  },
  {
   "cell_type": "markdown",
   "metadata": {
    "slideshow": {
     "slide_type": "subslide"
    }
   },
   "source": [
    "* Automatic binding generators:\n",
    " - Swig\n",
    " - Boost\n",
    " - pybind11\n",
    " - SIP\n",
    "\n",
    "\n",
    "* Wrapping code is useful for:\n",
    " - executing code form an existing C/C++ library\n",
    " - optimisation \n",
    "\n",
    "Wrap \"low level\" functions and then use Python for \"high level\" (classes, API, ...) that will use C \"low level\"functions\"\n",
    "\n",
    "- Use setup.py with distutils module to build real Python module\n"
   ]
  },
  {
   "cell_type": "markdown",
   "metadata": {
    "collapsed": true,
    "slideshow": {
     "slide_type": "slide"
    }
   },
   "source": [
    "![Astronomy ESFRI & RESERCH Infrastrucutre Cluster ASTERICS 653477](asterics_wrapper_ack.png)"
   ]
  }
 ],
 "metadata": {
  "celltoolbar": "Slideshow",
  "kernelspec": {
   "display_name": "Python 3",
   "language": "python",
   "name": "python3"
  },
  "language_info": {
   "codemirror_mode": {
    "name": "ipython",
    "version": 3
   },
   "file_extension": ".py",
   "mimetype": "text/x-python",
   "name": "python",
   "nbconvert_exporter": "python",
   "pygments_lexer": "ipython3",
   "version": "3.5.1"
  }
 },
 "nbformat": 4,
 "nbformat_minor": 2
}
