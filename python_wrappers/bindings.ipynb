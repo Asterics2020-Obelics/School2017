{
 "cells": [
  {
   "cell_type": "markdown",
   "metadata": {},
   "source": [
    "Extend Python with C/C++ library\n",
    "================"
   ]
  },
  {
   "cell_type": "markdown",
   "metadata": {},
   "source": [
    "## Python programming\n",
    "![Python](./python.png)"
   ]
  },
  {
   "cell_type": "markdown",
   "metadata": {},
   "source": [
    "### High level programming environment:\n",
    " - Rapid prototype\n",
    " - Interactivity\n",
    " - Scripting\n",
    " - Debugging\n",
    " - Testing\n",
    " \n",
    "### Component gluing:\n",
    " \n",
    " - A common interface can be provided to different C/C++ libraries\n",
    " - C/C++ libraries become Python module"
   ]
  },
  {
   "cell_type": "markdown",
   "metadata": {},
   "source": [
    "## C/C++ Programming\n",
    "\n",
    "<img src=\"./c-c-plus-plus.png\",align=\"left\", width=200,height=60>"
   ]
  },
  {
   "cell_type": "markdown",
   "metadata": {},
   "source": [
    "\n",
    "\n",
    "### The good\n",
    " - High performance\n",
    " - Low-level system programming\n",
    " \n",
    "### The bad\n",
    " - The compile/execute developement cycle\n",
    " - Non-interactive\n",
    " \n",
    "### The ugly\n",
    " - Writing user-interface\n",
    " - Writing GUI\n",
    " - High level programming\n",
    " - System integration (gluing components together)\n",
    " \n",
    " ************"
   ]
  },
  {
   "cell_type": "markdown",
   "metadata": {},
   "source": [
    "## Motivation for using Python wrapper\n",
    "\n",
    "<img src=\"./jungle-book.jpg\",align=\"left\", width=200,height=60>"
   ]
  },
  {
   "cell_type": "markdown",
   "metadata": {},
   "source": [
    " - High performance of C/C++\n",
    " - To use well tested/known algorithms written in C/C++\n",
    " - Writing extension module (i.e. Numpy)\n",
    " - ...\n",
    " \n",
    " -----------------------------\n"
   ]
  },
  {
   "cell_type": "markdown",
   "metadata": {},
   "source": [
    "## Extending VS Embedding\n",
    "\n",
    "### Extending\n",
    "- extend the functionality of Python by attaching a library of C functions to it\n",
    "\n",
    "### Embedding\n",
    "- Enrich your C/C++ application by embedding Python in it. \n",
    "- Embedding provides your application with the ability to implement some of the functionality of your application in Python rather than C or C++"
   ]
  },
  {
   "cell_type": "code",
   "execution_count": null,
   "metadata": {
    "collapsed": true
   },
   "outputs": [],
   "source": [
    "# file embedding.c\n",
    "#include <Python.h>\n",
    "\n",
    "int main(int argc, char *argv[])\n",
    "{\n",
    "  Py_Initialize();\n",
    "  PyRun_SimpleString(\"from time import time,ctime\\n\"\n",
    "                     \"print('Today is',ctime(time()))\\n\");\n",
    "  Py_Finalize();\n",
    "  return 0;\n",
    "}\n"
   ]
  },
  {
   "cell_type": "code",
   "execution_count": 5,
   "metadata": {
    "scrolled": true
   },
   "outputs": [
    {
     "name": "stdout",
     "output_type": "stream",
     "text": [
      "Today is Mon May 29 14:08:52 2017\r\n"
     ]
    }
   ],
   "source": [
    "! gcc embedding.c `python3.5-config --cflags` `python3.5-config --ldflags` -o embedding\n",
    "! ./embedding"
   ]
  },
  {
   "cell_type": "markdown",
   "metadata": {},
   "source": [
    "-------------------------"
   ]
  },
  {
   "cell_type": "markdown",
   "metadata": {},
   "source": [
    "## Write Python wrapper manually\n",
    "- ctypes, a foreign function library for Python.\n",
    "    Go to [Simple notebook](Simple/simple.ipynb \"simple\").\n",
    "- Python C API.\n",
    "    Go to [Python C API notebook](C_API/api.ipynb \"Python C API notebook\").\n",
    "\n",
    "##  Automatic binding generators for C/C++\n",
    "- Swig:http://swig.org/\n",
    "    - Go to [swig with value notebook](Swig/swig.ipynb \"simple\").\n",
    "    - Go to [swig with list notebook](Swig/Pointer/swig_pointer.ipynb \"list\").\n",
    "    \n",
    "- Boost \n",
    "\n",
    "-----------------------"
   ]
  },
  {
   "cell_type": "code",
   "execution_count": null,
   "metadata": {
    "collapsed": true
   },
   "outputs": [],
   "source": []
  }
 ],
 "metadata": {
  "kernelspec": {
   "display_name": "Python 3",
   "language": "python",
   "name": "python3"
  },
  "language_info": {
   "codemirror_mode": {
    "name": "ipython",
    "version": 3
   },
   "file_extension": ".py",
   "mimetype": "text/x-python",
   "name": "python",
   "nbconvert_exporter": "python",
   "pygments_lexer": "ipython3",
   "version": "3.5.1"
  }
 },
 "nbformat": 4,
 "nbformat_minor": 2
}
