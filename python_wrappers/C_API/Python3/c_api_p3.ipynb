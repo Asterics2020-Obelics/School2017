{
 "cells": [
  {
   "cell_type": "markdown",
   "metadata": {
    "slideshow": {
     "slide_type": "slide"
    }
   },
   "source": [
    "## Python 3\n",
    "Go to [Python3 C API](Python3/c_api_p3.ipynb \"Python 3 C API\")."
   ]
  },
  {
   "cell_type": "code",
   "execution_count": null,
   "metadata": {
    "collapsed": true,
    "slideshow": {
     "slide_type": "slide"
    }
   },
   "outputs": [],
   "source": [
    "// C file hellomodule.c\n",
    "#include <Python.h>\n",
    "#include \"hello.h\"\n",
    "\n",
    "static PyObject * hello_wrapper(PyObject * self, PyObject * args)\n",
    "{\n",
    "  char * input;\n",
    "  char * result;\n",
    "  PyObject * ret;\n",
    "\n",
    "  // parse arguments\n",
    "  if (!PyArg_ParseTuple(args, \"s\", &input)) {\n",
    "    return NULL;\n",
    "  }\n",
    "\n",
    "  // run the actual function\n",
    "  result = hello(input);\n",
    "\n",
    "  // build the resulting string into a Python object.\n",
    "  ret = PyBytes_FromString(result);\n",
    "  free(result);\n",
    "\n",
    "  return ret;\n",
    "}"
   ]
  },
  {
   "cell_type": "code",
   "execution_count": null,
   "metadata": {
    "collapsed": true,
    "slideshow": {
     "slide_type": "subslide"
    }
   },
   "outputs": [],
   "source": [
    "// C file hellomodule.c (continuation)\n",
    "\n",
    "\n",
    "static PyMethodDef SpamMethods[] = {\n",
    "    {\"say_hello\", hello_wrapper, METH_VARARGS,\n",
    "     \"Say hello\"},\n",
    "    {NULL, NULL, 0, NULL}        /* Sentinel */\n",
    "};\n",
    "\n",
    "\n",
    "static struct PyModuleDef hellomodule = {\n",
    "   PyModuleDef_HEAD_INIT,\n",
    "   \"hello\",   /* name of module */\n",
    "   NULL,     /* module documentation, may be NULL */\n",
    "   -1,       /* size of per-interpreter state of the module,\n",
    "                or -1 if the module keeps state in global variables. */\n",
    "   SpamMethods\n",
    "};\n",
    "\n",
    "PyMODINIT_FUNC\n",
    "PyInit_hello(void)\n",
    "{\n",
    "    PyObject *m;\n",
    "\n",
    "    m = PyModule_Create(&hellomodule);\n",
    "    if (m == NULL)\n",
    "        return NULL;\n",
    "    return m;\n",
    "}\n"
   ]
  },
  {
   "cell_type": "code",
   "execution_count": null,
   "metadata": {
    "collapsed": true,
    "slideshow": {
     "slide_type": "subslide"
    }
   },
   "outputs": [],
   "source": [
    "#setup.py\n",
    "\n",
    "from distutils.core import setup, Extension\n",
    "\n",
    "# the c++ extension module\n",
    "extension_mod = Extension(\"hello\", [\"hellomodule.c\", \"hello.c\"])\n",
    "\n",
    "setup(name = \"hello\", ext_modules=[extension_mod])\n"
   ]
  },
  {
   "cell_type": "code",
   "execution_count": 3,
   "metadata": {
    "slideshow": {
     "slide_type": "fragment"
    }
   },
   "outputs": [
    {
     "name": "stdout",
     "output_type": "stream",
     "text": [
      "running build\n",
      "running build_ext\n",
      "b'Hello Asterics'\n"
     ]
    }
   ],
   "source": [
    "! python setup.py build\n",
    "! cp build/lib.linux-x86_64-3.5/hello.cpython-35m-x86_64-linux-gnu.so ."
   ]
  },
  {
   "cell_type": "code",
   "execution_count": 4,
   "metadata": {},
   "outputs": [
    {
     "name": "stdout",
     "output_type": "stream",
     "text": [
      "Hello Asterics\n"
     ]
    }
   ],
   "source": [
    "import hello\n",
    "result = hello.say_hello('Asterics')\n",
    "print(result.decode(\"utf-8\") )"
   ]
  }
 ],
 "metadata": {
  "celltoolbar": "Slideshow",
  "kernelspec": {
   "display_name": "Python 3",
   "language": "python",
   "name": "python3"
  },
  "language_info": {
   "codemirror_mode": {
    "name": "ipython",
    "version": 3
   },
   "file_extension": ".py",
   "mimetype": "text/x-python",
   "name": "python",
   "nbconvert_exporter": "python",
   "pygments_lexer": "ipython3",
   "version": "3.5.1"
  }
 },
 "nbformat": 4,
 "nbformat_minor": 2
}
