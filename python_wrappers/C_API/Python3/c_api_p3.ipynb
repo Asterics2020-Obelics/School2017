{
 "cells": [
  {
   "cell_type": "code",
   "execution_count": null,
   "metadata": {
    "collapsed": true
   },
   "outputs": [],
   "source": [
    "// C file hellomodule.c\n",
    "#include <Python.h>\n",
    "\n",
    "static PyObject*\n",
    "say_hello(PyObject* self, PyObject* args)\n",
    "{\n",
    "    const char* name;\n",
    "\n",
    "    if (!PyArg_ParseTuple(args, \"s\", &name))\n",
    "        return NULL;\n",
    "\n",
    "    printf(\"Hello %s!\\n\", name);\n",
    "\n",
    "    Py_RETURN_NONE;\n",
    "}\n",
    "\n",
    "\n",
    "static PyMethodDef SpamMethods[] = {\n",
    "    {\"say_hello\", say_hello, METH_VARARGS,\n",
    "     \"Execute a shell command.\"},\n",
    "    {NULL, NULL, 0, NULL}        /* Sentinel */\n",
    "};\n",
    "\n",
    "\n",
    "static struct PyModuleDef hellomodule = {\n",
    "   PyModuleDef_HEAD_INIT,\n",
    "   \"hello\",   /* name of module */\n",
    "   NULL,     /* module documentation, may be NULL */\n",
    "   -1,       /* size of per-interpreter state of the module,\n",
    "                or -1 if the module keeps state in global variables. */\n",
    "   SpamMethods\n",
    "};\n",
    "\n",
    "PyMODINIT_FUNC\n",
    "PyInit_hello(void)\n",
    "{\n",
    "    PyObject *m;\n",
    "\n",
    "    m = PyModule_Create(&hellomodule);\n",
    "    if (m == NULL)\n",
    "        return NULL;\n",
    "    return m;\n",
    "}\n"
   ]
  },
  {
   "cell_type": "code",
   "execution_count": 1,
   "metadata": {},
   "outputs": [
    {
     "name": "stdout",
     "output_type": "stream",
     "text": [
      "build.sh  c_api_p3.ipynb  hellomodule.c  hellomodule.o\thello.so\r\n"
     ]
    }
   ],
   "source": [
    "! gcc -fPIC -c  hellomodule.c `python3.5-config --cflags` `python3.5-config --ldflags` -o hellomodule.o\n",
    "! gcc -pthread -shared hellomodule.o -o hello.so\n",
    "! ls"
   ]
  },
  {
   "cell_type": "code",
   "execution_count": 9,
   "metadata": {},
   "outputs": [
    {
     "name": "stdout",
     "output_type": "stream",
     "text": [
      "Hello Asterics!\r\n"
     ]
    }
   ],
   "source": [
    "! python3 -c \"import hello;  hello.say_hello('Asterics')\""
   ]
  },
  {
   "cell_type": "code",
   "execution_count": null,
   "metadata": {
    "collapsed": true
   },
   "outputs": [],
   "source": []
  }
 ],
 "metadata": {
  "kernelspec": {
   "display_name": "Python 3",
   "language": "python",
   "name": "python3"
  },
  "language_info": {
   "codemirror_mode": {
    "name": "ipython",
    "version": 3
   },
   "file_extension": ".py",
   "mimetype": "text/x-python",
   "name": "python",
   "nbconvert_exporter": "python",
   "pygments_lexer": "ipython3",
   "version": "3.5.1"
  }
 },
 "nbformat": 4,
 "nbformat_minor": 2
}
