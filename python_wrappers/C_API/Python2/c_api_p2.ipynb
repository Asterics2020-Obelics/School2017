{
 "cells": [
  {
   "cell_type": "markdown",
   "metadata": {
    "slideshow": {
     "slide_type": "slide"
    }
   },
   "source": [
    "## Python 2\n",
    "Go to [Python2 C API](Python2/c_api_p2.ipynb \"Python 2 C API\")."
   ]
  },
  {
   "cell_type": "code",
   "execution_count": null,
   "metadata": {
    "collapsed": true,
    "slideshow": {
     "slide_type": "subslide"
    }
   },
   "outputs": [],
   "source": [
    "// hello.c file\n",
    "#include <string.h>\n",
    "#include <stdlib.h>\n",
    "\n",
    "char * hello(const char * what){\n",
    "  size_t what_size = strlen(what);\n",
    "  char* result = (char*) malloc( (what_size + 6) * sizeof(char));\n",
    "  strcpy(result, \"Hello \"); \n",
    "  strcat(result, what);\n",
    "  return result; \n",
    "} "
   ]
  },
  {
   "cell_type": "code",
   "execution_count": null,
   "metadata": {
    "collapsed": true,
    "slideshow": {
     "slide_type": "fragment"
    }
   },
   "outputs": [],
   "source": [
    "// hello.h header file\n",
    "char * hello( const char * what); "
   ]
  },
  {
   "cell_type": "code",
   "execution_count": null,
   "metadata": {
    "collapsed": true,
    "slideshow": {
     "slide_type": "subslide"
    }
   },
   "outputs": [],
   "source": [
    "//hellomodule.c file\n",
    "#include <Python.h>\n",
    "#include \"hello.h\"\n",
    "\n",
    "static PyObject * hello_wrapper(PyObject * self, PyObject * args)\n",
    "{\n",
    "  char * input;\n",
    "  char * result;\n",
    "  PyObject * ret;\n",
    "\n",
    "  // parse arguments\n",
    "  if (!PyArg_ParseTuple(args, \"s\", &input)) {\n",
    "    return NULL;\n",
    "  }\n",
    "\n",
    "  // run the actual function\n",
    "  result = hello(input);\n",
    "\n",
    "  // build the resulting string into a Python object.\n",
    "  ret = PyString_FromString(result);\n",
    "  free(result);\n",
    "\n",
    "  return ret;\n",
    "}"
   ]
  },
  {
   "cell_type": "code",
   "execution_count": null,
   "metadata": {
    "collapsed": true,
    "slideshow": {
     "slide_type": "subslide"
    }
   },
   "outputs": [],
   "source": [
    "//hellomodule.c file ...\n",
    "\n",
    "static PyMethodDef HelloMethods[] = {\n",
    " { \"hello\", hello_wrapper, METH_VARARGS, \"Say hello\" },\n",
    " { NULL, NULL, 0, NULL }\n",
    "};\n",
    "\n",
    "PyMODINIT_FUNC\n",
    "inithello(void)\n",
    "{\n",
    "     (void) Py_InitModule(\"hello\", HelloMethods);\n",
    "}"
   ]
  },
  {
   "cell_type": "code",
   "execution_count": null,
   "metadata": {
    "collapsed": true,
    "slideshow": {
     "slide_type": "subslide"
    }
   },
   "outputs": [],
   "source": [
    "#setup.py\n",
    "\n",
    "from distutils.core import setup, Extension\n",
    "\n",
    "# the c++ extension module\n",
    "extension_mod = Extension(\"hello\", [\"hellomodule.c\", \"hello.c\"])\n",
    "\n",
    "setup(name = \"hello\", ext_modules=[extension_mod]) \n",
    "  "
   ]
  },
  {
   "cell_type": "code",
   "execution_count": null,
   "metadata": {
    "collapsed": true,
    "slideshow": {
     "slide_type": "fragment"
    }
   },
   "outputs": [],
   "source": [
    "! python2 setup.py build\n",
    "! cp build/lib.linux-x86_64-2.7/hello.so .\n",
    "! python2 -c \"import    hello;  print(hello.hello('Asterics'))\""
   ]
  },
  {
   "cell_type": "markdown",
   "metadata": {
    "slideshow": {
     "slide_type": "slide"
    }
   },
   "source": [
    "* PyArg_ParseTuple call. That call is what tells Python that the ‘hello’ wrapper function takes precisely one argument, a string (“s” means “string”; “ss” would mean “two strings”; “si” would mean “string and integer”). \n",
    "\n",
    "* The convention in the C API to Python is that a NULL return from a function that returns PyObject* indicates an error has occurred; in this case, the error information is set within PyArg_ParseTuple and we’re just passing the error on up the stack by returning NULL."
   ]
  },
  {
   "cell_type": "markdown",
   "metadata": {
    "slideshow": {
     "slide_type": "subslide"
    }
   },
   "source": [
    "* references. Python works on a system of reference counting: each time a function “takes ownership” of an object (by, for example, assigning it to a list, or a dictionary) it increments that object’s reference count by one using Py_INCREF.\n",
    "\n",
    "* When the object is removed from use in that particular place (e.g. removed from the list or dictionary), the reference count is decremented with Py_DECREF.\n",
    " \n",
    "* When the reference count reaches 0, Python knows that this object is not being used by anything and can be freed (it may not be freed immediately, however)."
   ]
  },
  {
   "cell_type": "markdown",
   "metadata": {
    "slideshow": {
     "slide_type": "subslide"
    }
   },
   "source": [
    "* Why does this matter? Well, we’re creating a PyObject in this code, with PyString_FromString. Do we need to INCREF it? To find out, go take a look at the documentation for PyString_FromString:\n",
    "\n",
    "    https://docs.python.org/2/c-api/string.html\n",
    "\n",
    "See where it says “New reference”? That means it’s handing back an object with a reference count of 1, and that’s what we want. \n",
    "\n",
    "If it had said “Borrowed reference”, then we would need to INCREF the object before returning it, to indicate that we wanted the allocated memory to survive past the end of the function."
   ]
  },
  {
   "cell_type": "markdown",
   "metadata": {
    "slideshow": {
     "slide_type": "subslide"
    }
   },
   "source": [
    "* if you receive a Python object from the Python API, you can use it within your own C code without INCREFing it.\n",
    "* if you want to guarantee that the Python object survives past the end of your own C code, you must INCREF it.\n",
    "* if you received an object from Python code and it was a new reference, but you don’t want it to survive past the end of your own C code, you should DECREF it.\n",
    "\n",
    "* If you wanted to return None, by the way, you can use Py_None. Remember to INCREF it!"
   ]
  }
 ],
 "metadata": {
  "celltoolbar": "Slideshow",
  "kernelspec": {
   "display_name": "Python 3",
   "language": "python",
   "name": "python3"
  },
  "language_info": {
   "codemirror_mode": {
    "name": "ipython",
    "version": 3
   },
   "file_extension": ".py",
   "mimetype": "text/x-python",
   "name": "python",
   "nbconvert_exporter": "python",
   "pygments_lexer": "ipython3",
   "version": "3.6.0"
  }
 },
 "nbformat": 4,
 "nbformat_minor": 2
}
