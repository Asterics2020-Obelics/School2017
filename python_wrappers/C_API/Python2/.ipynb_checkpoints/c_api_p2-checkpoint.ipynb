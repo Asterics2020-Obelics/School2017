{
 "cells": [
  {
   "cell_type": "markdown",
   "metadata": {
    "slideshow": {
     "slide_type": "slide"
    }
   },
   "source": [
    "## Python 2\n",
    "Go to [Python2 C API](Python2/c_api_p2.ipynb \"Python 2 C API\")."
   ]
  },
  {
   "cell_type": "code",
   "execution_count": null,
   "metadata": {
    "collapsed": true,
    "slideshow": {
     "slide_type": "subslide"
    }
   },
   "outputs": [],
   "source": [
    "// C file hellomodule.c\n",
    "\n",
    "#include <Python.h>\n",
    "\n",
    "static PyObject*\n",
    "say_hello(PyObject* self, PyObject* args)\n",
    "{\n",
    "    const char* name;\n",
    "\n",
    "    if (!PyArg_ParseTuple(args, \"s\", &name))\n",
    "        return NULL;\n",
    "\n",
    "    printf(\"Hello %s!\\n\", name);\n",
    "    \n",
    "\n",
    "    Py_RETURN_NONE;\n",
    "}\n",
    "\n",
    "static PyMethodDef HelloMethods[] =\n",
    "{\n",
    "     {\"say_hello\", say_hello, METH_VARARGS, \"Greet somebody.\"},\n",
    "     {NULL, NULL, 0, NULL}\n",
    "};\n",
    "\n",
    "PyMODINIT_FUNC\n",
    "inithello(void)\n",
    "{\n",
    "     (void) Py_InitModule(\"hello\", HelloMethods);\n",
    "}\n"
   ]
  },
  {
   "cell_type": "code",
   "execution_count": null,
   "metadata": {
    "slideshow": {
     "slide_type": "subslide"
    }
   },
   "outputs": [],
   "source": [
    "! gcc -c  hellomodule.c `python2.7-config --cflags` `python2.7-config --ldflags` -o hellomodule.o\n",
    "! gcc -pthread -shared hellomodule.o -o hello.so\n",
    "! ls "
   ]
  },
  {
   "cell_type": "code",
   "execution_count": null,
   "metadata": {
    "slideshow": {
     "slide_type": "fragment"
    }
   },
   "outputs": [],
   "source": [
    "! python2 -c \"import hello;  hello.say_hello('Asterics')\""
   ]
  }
 ],
 "metadata": {
  "celltoolbar": "Slideshow",
  "kernelspec": {
   "display_name": "Python 3",
   "language": "python",
   "name": "python3"
  },
  "language_info": {
   "codemirror_mode": {
    "name": "ipython",
    "version": 3
   },
   "file_extension": ".py",
   "mimetype": "text/x-python",
   "name": "python",
   "nbconvert_exporter": "python",
   "pygments_lexer": "ipython3",
   "version": "3.5.1"
  }
 },
 "nbformat": 4,
 "nbformat_minor": 2
}
