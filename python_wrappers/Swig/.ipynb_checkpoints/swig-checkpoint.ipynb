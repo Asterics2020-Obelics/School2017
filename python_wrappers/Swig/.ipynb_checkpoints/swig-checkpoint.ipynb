{
 "cells": [
  {
   "cell_type": "markdown",
   "metadata": {
    "collapsed": true
   },
   "source": [
    "# Using Swig\n",
    "\n",
    "http://swig.org/"
   ]
  },
  {
   "cell_type": "markdown",
   "metadata": {},
   "source": [
    "### C file exemple.c"
   ]
  },
  {
   "cell_type": "raw",
   "metadata": {},
   "source": [
    "/* File : fact.c */\n",
    "     \n",
    "     #include <time.h>\n",
    "     double My_variable = 3.0;\n",
    "     \n",
    "     int fact(int n) {\n",
    "         if (n <= 1) return 1;\n",
    "         else return n*fact(n-1);\n",
    "     }\n",
    "     \n",
    "     int my_mod(int x, int y) {\n",
    "         return (x%y);\n",
    "     }\n",
    "     \t\n",
    "     char *get_time()\n",
    "     {\n",
    "         time_t ltime;\n",
    "         time(&ltime);\n",
    "         return ctime(&ltime);\n",
    "     }\n",
    "     \n",
    "     "
   ]
  },
  {
   "cell_type": "markdown",
   "metadata": {},
   "source": [
    "Now, in order to add these files to your favorite language, you need to write an \"interface file\" which is the input to SWIG. An interface file for these C functions might look like this :"
   ]
  },
  {
   "cell_type": "markdown",
   "metadata": {},
   "source": [
    "### swig interface file example.i"
   ]
  },
  {
   "cell_type": "raw",
   "metadata": {},
   "source": [
    "The #define SWIG_FILE_WITH_INIT line inserts a macro that specifies that the resulting C file should be built as a python extension, inserting the module init code. This .i file wraps the following simple C file: "
   ]
  },
  {
   "cell_type": "raw",
   "metadata": {},
   "source": [
    "\n",
    "\n",
    "     /* example.i */\n",
    "     %module example\n",
    "     %{\n",
    "     #define SWIG_FILE_WITH_INIT\n",
    "     /* Put header files here or function declarations like below */\n",
    "     extern double My_variable;\n",
    "     extern int fact(int n);\n",
    "     extern int my_mod(int x, int y);\n",
    "     extern char *get_time();\n",
    "     %}\n",
    "     \n",
    "     extern double My_variable;\n",
    "     extern int fact(int n);\n",
    "     extern int my_mod(int x, int y);\n",
    "     extern char *get_time();\n",
    "     "
   ]
  },
  {
   "cell_type": "code",
   "execution_count": 19,
   "metadata": {},
   "outputs": [
    {
     "name": "stdout",
     "output_type": "stream",
     "text": [
      "example.c  example.o   example.so      example_wrap.o  swig.ipynb\r\n",
      "example.i  example.py  example_wrap.c  __pycache__\r\n"
     ]
    }
   ],
   "source": [
    "! rm  example.py  example_wrap.c\n",
    "! swig -python example.i\n",
    "! ls"
   ]
  },
  {
   "cell_type": "code",
   "execution_count": 23,
   "metadata": {},
   "outputs": [
    {
     "name": "stdout",
     "output_type": "stream",
     "text": [
      "build\t\t\t\t\t  example.o\t  example_wrap.o\r\n",
      "example.c\t\t\t\t  example.py\t  setup.py\r\n",
      "_example.cpython-36m-x86_64-linux-gnu.so  _example.so\t  swig.ipynb\r\n",
      "example.i\t\t\t\t  example_wrap.c\r\n"
     ]
    }
   ],
   "source": [
    "! rm example.so example.o\n",
    "! gcc -fPIC -c example.c example_wrap.c -I/usr/local/include -I/home/jacquem/anaconda3/include/python3.5m\n",
    "! gcc -shared example.o example_wrap.o -o _example.so\n",
    "!ls"
   ]
  },
  {
   "cell_type": "code",
   "execution_count": 24,
   "metadata": {},
   "outputs": [],
   "source": [
    "import example"
   ]
  },
  {
   "cell_type": "code",
   "execution_count": 27,
   "metadata": {},
   "outputs": [
    {
     "data": {
      "text/plain": [
       "6"
      ]
     },
     "execution_count": 27,
     "metadata": {},
     "output_type": "execute_result"
    }
   ],
   "source": [
    "example.fact(3)"
   ]
  }
 ],
 "metadata": {
  "kernelspec": {
   "display_name": "Python 3",
   "language": "python",
   "name": "python3"
  },
  "language_info": {
   "codemirror_mode": {
    "name": "ipython",
    "version": 3
   },
   "file_extension": ".py",
   "mimetype": "text/x-python",
   "name": "python",
   "nbconvert_exporter": "python",
   "pygments_lexer": "ipython3",
   "version": "3.6.1"
  }
 },
 "nbformat": 4,
 "nbformat_minor": 2
}
