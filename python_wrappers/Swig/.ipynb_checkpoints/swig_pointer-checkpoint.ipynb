{
 "cells": [
  {
   "cell_type": "markdown",
   "metadata": {
    "collapsed": true
   },
   "source": [
    "# Using Swig\n",
    "\n",
    "http://swig.org/"
   ]
  },
  {
   "cell_type": "markdown",
   "metadata": {},
   "source": [
    "### C file array_sum.c"
   ]
  },
  {
   "cell_type": "raw",
   "metadata": {},
   "source": [
    "float array_sum(float* tab, unsigned int size){\n",
    "\n",
    "    float result = 0.;\n",
    "        for ( unsigned int i =0; i < size; ++i){\n",
    "            result += tab[i];\n",
    "        }\n",
    "        return result;\n",
    "}\n",
    "\n",
    "     "
   ]
  },
  {
   "cell_type": "markdown",
   "metadata": {},
   "source": [
    "Now, in order to add these files to your favorite language, you need to write an \"interface file\" which is the input to SWIG. An interface file for these C functions might look like this :"
   ]
  },
  {
   "cell_type": "markdown",
   "metadata": {},
   "source": [
    "### swig interface file array_sum.i"
   ]
  },
  {
   "cell_type": "raw",
   "metadata": {},
   "source": [
    " /* array_sum.i */\n",
    "%module array_sum\n",
    "\n",
    "%include cpointer.i\n",
    " %{\n",
    "   /* Put header files here or function declarations like below */\n",
    "   float array_sum(float* tab, unsigned int size);\n",
    " %}\n",
    "   float array_sum(float* tab, unsigned int size);\n",
    "\n",
    "     "
   ]
  },
  {
   "cell_type": "code",
   "execution_count": 8,
   "metadata": {
    "scrolled": true
   },
   "outputs": [
    {
     "name": "stdout",
     "output_type": "stream",
     "text": [
      "total 144\r\n",
      "-rw-r--r-- 1 jacquem cta    373 May  4 10:29 array_sum.c\r\n",
      "-rw-r--r-- 1 jacquem cta    233 May  4 10:48 array_sum.i\r\n",
      "-rw-r--r-- 1 jacquem cta   1312 May 24 14:38 array_sum.o\r\n",
      "drwxr-xr-x 2 jacquem cta   4096 May 24 14:38 __pycache__\r\n",
      "-rw-r--r-- 1 jacquem cta   5228 May 24 14:42 swig.ipynb\r\n",
      "-rw-r--r-- 1 jacquem cta 115373 May 24 14:42 array_sum_wrap.c\r\n",
      "-rw-r--r-- 1 jacquem cta   3068 May 24 14:42 array_sum.py\r\n"
     ]
    }
   ],
   "source": [
    "! rm  array_sum.py  array_sum_wrap.* _array_sum.so\n",
    "! swig -python array_sum.i\n",
    "! ls -lrt"
   ]
  },
  {
   "cell_type": "code",
   "execution_count": 9,
   "metadata": {},
   "outputs": [
    {
     "name": "stdout",
     "output_type": "stream",
     "text": [
      "rm: cannot remove '_array_sum.so': No such file or directory\n",
      "array_sum.c  array_sum.o   _array_sum.so     array_sum_wrap.o  swig.ipynb\n",
      "array_sum.i  array_sum.py  array_sum_wrap.c  __pycache__\n"
     ]
    }
   ],
   "source": [
    "! rm _array_sum.so array_sum.o\n",
    "! gcc -fPIC -c array_sum.c array_sum_wrap.c -I/home/jacquem/anaconda3/include/python3.5m\n",
    "! gcc -shared array_sum.o array_sum_wrap.o -o _array_sum.so\n",
    "!ls"
   ]
  },
  {
   "cell_type": "code",
   "execution_count": 10,
   "metadata": {
    "collapsed": true
   },
   "outputs": [],
   "source": [
    "import array_sum"
   ]
  },
  {
   "cell_type": "code",
   "execution_count": 11,
   "metadata": {},
   "outputs": [
    {
     "ename": "TypeError",
     "evalue": "in method 'array_sum', argument 1 of type 'float *'",
     "output_type": "error",
     "traceback": [
      "\u001b[0;31m---------------------------------------------------------------------------\u001b[0m",
      "\u001b[0;31mTypeError\u001b[0m                                 Traceback (most recent call last)",
      "\u001b[0;32m<ipython-input-11-15ff1989a116>\u001b[0m in \u001b[0;36m<module>\u001b[0;34m()\u001b[0m\n\u001b[1;32m      1\u001b[0m \u001b[0ml\u001b[0m \u001b[0;34m=\u001b[0m \u001b[0;34m[\u001b[0m\u001b[0;36m1\u001b[0m\u001b[0;34m,\u001b[0m\u001b[0;36m2\u001b[0m\u001b[0;34m,\u001b[0m\u001b[0;36m3\u001b[0m\u001b[0;34m,\u001b[0m\u001b[0;36m4\u001b[0m\u001b[0;34m,\u001b[0m\u001b[0;36m5\u001b[0m\u001b[0;34m,\u001b[0m\u001b[0;36m6\u001b[0m\u001b[0;34m,\u001b[0m\u001b[0;36m7\u001b[0m\u001b[0;34m,\u001b[0m\u001b[0;36m8\u001b[0m\u001b[0;34m]\u001b[0m\u001b[0;34m\u001b[0m\u001b[0m\n\u001b[0;32m----> 2\u001b[0;31m \u001b[0marray_sum\u001b[0m\u001b[0;34m.\u001b[0m\u001b[0marray_sum\u001b[0m\u001b[0;34m(\u001b[0m\u001b[0ml\u001b[0m\u001b[0;34m,\u001b[0m \u001b[0mlen\u001b[0m\u001b[0;34m(\u001b[0m\u001b[0ml\u001b[0m\u001b[0;34m)\u001b[0m\u001b[0;34m)\u001b[0m\u001b[0;34m\u001b[0m\u001b[0m\n\u001b[0m",
      "\u001b[0;31mTypeError\u001b[0m: in method 'array_sum', argument 1 of type 'float *'"
     ]
    }
   ],
   "source": [
    "l = [1,2,3,4,5,6,7,8]\n",
    "array_sum.array_sum(l, len(l))"
   ]
  },
  {
   "cell_type": "code",
   "execution_count": null,
   "metadata": {
    "collapsed": true
   },
   "outputs": [],
   "source": []
  }
 ],
 "metadata": {
  "kernelspec": {
   "display_name": "Python 3",
   "language": "python",
   "name": "python3"
  },
  "language_info": {
   "codemirror_mode": {
    "name": "ipython",
    "version": 3
   },
   "file_extension": ".py",
   "mimetype": "text/x-python",
   "name": "python",
   "nbconvert_exporter": "python",
   "pygments_lexer": "ipython3",
   "version": "3.5.1"
  }
 },
 "nbformat": 4,
 "nbformat_minor": 2
}
