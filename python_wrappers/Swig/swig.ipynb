{
 "cells": [
  {
   "cell_type": "markdown",
   "metadata": {
    "collapsed": true
   },
   "source": [
    "# Using Swig \n",
    "## fonctions with argument pass by value\n",
    "\n",
    "http://swig.org/"
   ]
  },
  {
   "cell_type": "markdown",
   "metadata": {},
   "source": [
    "### C file operation.c"
   ]
  },
  {
   "cell_type": "code",
   "execution_count": null,
   "metadata": {
    "collapsed": true
   },
   "outputs": [],
   "source": [
    "float sum(float a, float b){\n",
    "    return a+b;\n",
    "}\n",
    "\n",
    "float sub(float a, float b){\n",
    "    return a-b;\n",
    "}\n",
    "     "
   ]
  },
  {
   "cell_type": "markdown",
   "metadata": {},
   "source": [
    "### Header file operation.h"
   ]
  },
  {
   "cell_type": "code",
   "execution_count": null,
   "metadata": {
    "collapsed": true
   },
   "outputs": [],
   "source": [
    "#ifndef __OPERATION__\n",
    "#define __OPERATION__\n",
    "    float sum(float a, float b);\n",
    "    float sub(float a, float b);\n",
    "#endif\n"
   ]
  },
  {
   "cell_type": "markdown",
   "metadata": {},
   "source": [
    "Now, in order to add these files to your favorite language, you need to write an \"interface file\" which is the input to SWIG. An interface file for these C functions might look like this :"
   ]
  },
  {
   "cell_type": "markdown",
   "metadata": {},
   "source": [
    "### swig interface file mod_math.i"
   ]
  },
  {
   "cell_type": "code",
   "execution_count": null,
   "metadata": {
    "collapsed": true
   },
   "outputs": [],
   "source": [
    "%module mod_math\n",
    "\n",
    "%{\n",
    "  #include \"operation.h\"\n",
    "%}\n",
    "\n",
    "float sum(float a, float b);\n",
    "\n",
    "\n",
    "     "
   ]
  },
  {
   "cell_type": "code",
   "execution_count": 26,
   "metadata": {
    "scrolled": true
   },
   "outputs": [
    {
     "name": "stdout",
     "output_type": "stream",
     "text": [
      "total 148\r\n",
      "drwxr-xr-x 2 jacquem cta   4096 May 24 14:49 Pointer\r\n",
      "drwxr-xr-x 2 jacquem cta   4096 May 24 14:50 Class\r\n",
      "drwxr-xr-x 2 jacquem cta   4096 May 24 15:06 __pycache__\r\n",
      "-rw-r--r-- 1 jacquem cta    125 May 24 15:09 mod_math.i\r\n",
      "-rw-r--r-- 1 jacquem cta   1240 May 24 15:09 sum.o\r\n",
      "-rw-r--r-- 1 jacquem cta   3866 May 24 15:09 swig.ipynb\r\n",
      "-rw-r--r-- 1 jacquem cta     95 May 24 15:10 sum.h\r\n",
      "-rw-r--r-- 1 jacquem cta     95 May 24 15:10 sum.c\r\n",
      "-rw-r--r-- 1 jacquem cta   3023 May 24 15:10 mod_math.py\r\n",
      "-rw-r--r-- 1 jacquem cta 114166 May 24 15:10 mod_math_wrap.c\r\n"
     ]
    }
   ],
   "source": [
    "! swig -python mod_math.i"
   ]
  },
  {
   "cell_type": "code",
   "execution_count": 1,
   "metadata": {},
   "outputs": [
    {
     "name": "stdout",
     "output_type": "stream",
     "text": [
      "rm: cannot remove '*.so': No such file or directory\n",
      "rm: cannot remove '*.o': No such file or directory\n",
      "\u001b[01m\u001b[Kgcc:\u001b[m\u001b[K \u001b[01;31m\u001b[Kerror: \u001b[m\u001b[Ksum.c: No such file or directory\n",
      "\u001b[01m\u001b[Kgcc:\u001b[m\u001b[K \u001b[01;31m\u001b[Kfatal error: \u001b[m\u001b[Kno input files\n",
      "compilation terminated.\n",
      "\u001b[01m\u001b[Kgcc:\u001b[m\u001b[K \u001b[01;31m\u001b[Kerror: \u001b[m\u001b[Kmod_math_wrap.c: No such file or directory\n",
      "\u001b[01m\u001b[Kgcc:\u001b[m\u001b[K \u001b[01;31m\u001b[Kfatal error: \u001b[m\u001b[Kno input files\n",
      "compilation terminated.\n",
      "\u001b[01m\u001b[Kgcc:\u001b[m\u001b[K \u001b[01;31m\u001b[Kerror: \u001b[m\u001b[Ksum.o: No such file or directory\n",
      "\u001b[01m\u001b[Kgcc:\u001b[m\u001b[K \u001b[01;31m\u001b[Kerror: \u001b[m\u001b[Kmod_math_wrap.o: No such file or directory\n",
      "\u001b[01m\u001b[Kgcc:\u001b[m\u001b[K \u001b[01;31m\u001b[Kfatal error: \u001b[m\u001b[Kno input files\n",
      "compilation terminated.\n",
      "Class\t    mod_math.py  operation.h  __pycache__\n",
      "mod_math.i  operation.c  Pointer      swig.ipynb\n"
     ]
    }
   ],
   "source": [
    "! gcc -fPIC -c  sum.c\n",
    "! gcc -fPIC -c  mod_math_wrap.c `python-config --cflags`\n",
    "! gcc -shared sum.o mod_math_wrap.o -o _mod_math.so"
   ]
  },
  {
   "cell_type": "code",
   "execution_count": 28,
   "metadata": {
    "collapsed": true
   },
   "outputs": [],
   "source": [
    "import mod_math"
   ]
  },
  {
   "cell_type": "code",
   "execution_count": 29,
   "metadata": {},
   "outputs": [
    {
     "data": {
      "text/plain": [
       "3.0"
      ]
     },
     "execution_count": 29,
     "metadata": {},
     "output_type": "execute_result"
    }
   ],
   "source": [
    "mod_math.sum(1,2)"
   ]
  },
  {
   "cell_type": "code",
   "execution_count": null,
   "metadata": {
    "collapsed": true
   },
   "outputs": [],
   "source": []
  }
 ],
 "metadata": {
  "kernelspec": {
   "display_name": "Python 3",
   "language": "python",
   "name": "python3"
  },
  "language_info": {
   "codemirror_mode": {
    "name": "ipython",
    "version": 3
   },
   "file_extension": ".py",
   "mimetype": "text/x-python",
   "name": "python",
   "nbconvert_exporter": "python",
   "pygments_lexer": "ipython3",
   "version": "3.5.1"
  }
 },
 "nbformat": 4,
 "nbformat_minor": 2
}
