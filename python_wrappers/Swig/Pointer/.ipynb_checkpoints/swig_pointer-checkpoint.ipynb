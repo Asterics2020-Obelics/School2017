{
 "cells": [
  {
   "cell_type": "markdown",
   "metadata": {
    "collapsed": true
   },
   "source": [
    "# Using Swig\n",
    "\n",
    "## fonctions with numpy list\n",
    "\n",
    "http://swig.org/Doc1.1/HTML/Typemaps.html\n",
    "https://docs.scipy.org/doc/numpy/reference/swig.interface-file.html\n",
    "https://scipy.github.io/old-wiki/pages/Cookbook/SWIG_NumPy_examples.html\n"
   ]
  },
  {
   "cell_type": "markdown",
   "metadata": {},
   "source": [
    "### C file array_sum.c"
   ]
  },
  {
   "cell_type": "raw",
   "metadata": {},
   "source": [
    "float array_sum(float* tab, unsigned int size){\n",
    "\n",
    "    float result = 0.;\n",
    "        for ( unsigned int i =0; i < size; ++i){\n",
    "            result += tab[i];\n",
    "        }\n",
    "        return result;\n",
    "}\n",
    "\n",
    "     "
   ]
  },
  {
   "cell_type": "markdown",
   "metadata": {},
   "source": [
    "Now, in order to add these files to your favorite language, you need to write an \"interface file\" which is the input to SWIG. An interface file for these C functions might look like this :"
   ]
  },
  {
   "cell_type": "markdown",
   "metadata": {},
   "source": [
    "### swig interface file array_sum.i"
   ]
  },
  {
   "cell_type": "raw",
   "metadata": {},
   "source": [
    " /* array_sum.i */\n",
    "%module array_sum\n",
    "\n",
    "%include typemaps.i           // Grab the standard typemap library\n",
    "\n",
    " %{\n",
    "   /* Put header files here or function declarations like below */\n",
    "   float array_sum(float *tab, unsigned int size);\n",
    " %}\n",
    "   float array_sum(float *INPUT, unsigned int size);\n"
   ]
  },
  {
   "cell_type": "markdown",
   "metadata": {},
   "source": [
    "The %apply directive tells SWIG that we are going to apply special processing to a datatype. The \"double *OUTPUT\" is the name of a rule describing how to return an output value from a \"double *\" (this rule is defined in the file typemaps.i). The rule gets applied to all of the datatypes listed in curly braces-- in this case \"double *result\"."
   ]
  },
  {
   "cell_type": "code",
   "execution_count": 10,
   "metadata": {
    "scrolled": true
   },
   "outputs": [
    {
     "name": "stdout",
     "output_type": "stream",
     "text": [
      "total 248\r\n",
      "-rw-r--r-- 1 jacquem cta    373 May  4 10:29 array_sum.c\r\n",
      "drwxr-xr-x 2 jacquem cta   4096 May 29 14:42 __pycache__\r\n",
      "-rw-r--r-- 1 jacquem cta   1312 May 29 14:52 array_sum.o\r\n",
      "-rw-r--r-- 1 jacquem cta  50568 May 29 14:52 array_sum_wrap.o\r\n",
      "-rwxr-xr-x 1 jacquem cta  52344 May 29 14:52 _array_sum.so\r\n",
      "-rw-r--r-- 1 jacquem cta   6328 May 29 14:54 swig_pointer.ipynb\r\n",
      "-rw-r--r-- 1 jacquem cta    292 May 29 14:56 array_sum.i\r\n",
      "-rw-r--r-- 1 jacquem cta   3072 May 29 14:56 array_sum.py\r\n",
      "-rw-r--r-- 1 jacquem cta 117098 May 29 14:56 array_sum_wrap.c\r\n"
     ]
    }
   ],
   "source": [
    "! swig -python array_sum.i\n",
    "! ls -lrt"
   ]
  },
  {
   "cell_type": "code",
   "execution_count": 11,
   "metadata": {},
   "outputs": [
    {
     "name": "stdout",
     "output_type": "stream",
     "text": [
      "array_sum.c  array_sum.py      array_sum_wrap.o\r\n",
      "array_sum.i  _array_sum.so     __pycache__\r\n",
      "array_sum.o  array_sum_wrap.c  swig_pointer.ipynb\r\n"
     ]
    }
   ],
   "source": [
    "! gcc -fPIC -c array_sum.c array_sum_wrap.c -I/home/jacquem/anaconda3/include/python3.5m\n",
    "! gcc -shared array_sum.o array_sum_wrap.o -o _array_sum.so\n",
    "!ls"
   ]
  },
  {
   "cell_type": "code",
   "execution_count": 12,
   "metadata": {
    "collapsed": true
   },
   "outputs": [],
   "source": [
    "import array_sum"
   ]
  },
  {
   "cell_type": "code",
   "execution_count": 13,
   "metadata": {},
   "outputs": [
    {
     "ename": "TypeError",
     "evalue": "in method 'array_sum', argument 1 of type 'float *'",
     "output_type": "error",
     "traceback": [
      "\u001b[0;31m---------------------------------------------------------------------------\u001b[0m",
      "\u001b[0;31mTypeError\u001b[0m                                 Traceback (most recent call last)",
      "\u001b[0;32m<ipython-input-13-0f7ea8a00c3a>\u001b[0m in \u001b[0;36m<module>\u001b[0;34m()\u001b[0m\n\u001b[1;32m      2\u001b[0m \u001b[0;34m\u001b[0m\u001b[0m\n\u001b[1;32m      3\u001b[0m \u001b[0ml\u001b[0m \u001b[0;34m=\u001b[0m \u001b[0;34m[\u001b[0m\u001b[0;36m1\u001b[0m\u001b[0;34m,\u001b[0m\u001b[0;36m2\u001b[0m\u001b[0;34m,\u001b[0m\u001b[0;36m3\u001b[0m\u001b[0;34m,\u001b[0m\u001b[0;36m4\u001b[0m\u001b[0;34m,\u001b[0m\u001b[0;36m5\u001b[0m\u001b[0;34m,\u001b[0m\u001b[0;36m6\u001b[0m\u001b[0;34m,\u001b[0m\u001b[0;36m7\u001b[0m\u001b[0;34m,\u001b[0m\u001b[0;36m8\u001b[0m\u001b[0;34m]\u001b[0m\u001b[0;34m\u001b[0m\u001b[0m\n\u001b[0;32m----> 4\u001b[0;31m \u001b[0marray_sum\u001b[0m\u001b[0;34m.\u001b[0m\u001b[0marray_sum\u001b[0m\u001b[0;34m(\u001b[0m\u001b[0ml\u001b[0m\u001b[0;34m,\u001b[0m \u001b[0mlen\u001b[0m\u001b[0;34m(\u001b[0m\u001b[0ml\u001b[0m\u001b[0;34m)\u001b[0m\u001b[0;34m)\u001b[0m\u001b[0;34m\u001b[0m\u001b[0m\n\u001b[0m",
      "\u001b[0;31mTypeError\u001b[0m: in method 'array_sum', argument 1 of type 'float *'"
     ]
    }
   ],
   "source": [
    "l = [1,2,3,4,5,6,7,8]\n",
    "array_sum.array_sum(l, len(l))"
   ]
  },
  {
   "cell_type": "code",
   "execution_count": null,
   "metadata": {
    "collapsed": true
   },
   "outputs": [],
   "source": []
  }
 ],
 "metadata": {
  "kernelspec": {
   "display_name": "Python 3",
   "language": "python",
   "name": "python3"
  },
  "language_info": {
   "codemirror_mode": {
    "name": "ipython",
    "version": 3
   },
   "file_extension": ".py",
   "mimetype": "text/x-python",
   "name": "python",
   "nbconvert_exporter": "python",
   "pygments_lexer": "ipython3",
   "version": "3.5.1"
  }
 },
 "nbformat": 4,
 "nbformat_minor": 2
}
