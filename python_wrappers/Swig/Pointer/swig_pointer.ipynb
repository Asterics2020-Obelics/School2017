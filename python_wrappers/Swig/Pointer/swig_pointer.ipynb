{
 "cells": [
  {
   "cell_type": "markdown",
   "metadata": {
    "collapsed": true
   },
   "source": [
    "# Using Swig\n",
    "\n",
    "## fonctions with numpy list parameter\n",
    "\n",
    "http://swig.org/Doc1.1/HTML/Typemaps.html\n",
    "https://docs.scipy.org/doc/numpy/reference/swig.interface-file.html\n",
    "https://scipy.github.io/old-wiki/pages/Cookbook/SWIG_NumPy_examples.html\n"
   ]
  },
  {
   "cell_type": "markdown",
   "metadata": {},
   "source": [
    "### C file array_sum.c"
   ]
  },
  {
   "cell_type": "code",
   "execution_count": null,
   "metadata": {
    "collapsed": true
   },
   "outputs": [],
   "source": [
    "float array_sum(float* tab, unsigned int size){\n",
    "\n",
    "    float result = 0.;\n",
    "        for ( unsigned int i =0; i < size; ++i){\n",
    "            result += tab[i];\n",
    "        }\n",
    "        return result;\n",
    "}\n",
    "\n",
    "     "
   ]
  },
  {
   "cell_type": "markdown",
   "metadata": {},
   "source": [
    "Now, in order to add these files to your favorite language, you need to write an \"interface file\" which is the input to SWIG. An interface file for these C functions might look like this :"
   ]
  },
  {
   "cell_type": "markdown",
   "metadata": {},
   "source": [
    "### swig interface file modarray.i"
   ]
  },
  {
   "cell_type": "code",
   "execution_count": 2,
   "metadata": {},
   "outputs": [
    {
     "ename": "IndentationError",
     "evalue": "unexpected indent (<ipython-input-2-28a17a7d21cf>, line 11)",
     "output_type": "error",
     "traceback": [
      "\u001b[0;36m  File \u001b[0;32m\"<ipython-input-2-28a17a7d21cf>\"\u001b[0;36m, line \u001b[0;32m11\u001b[0m\n\u001b[0;31m    import_array();\u001b[0m\n\u001b[0m    ^\u001b[0m\n\u001b[0;31mIndentationError\u001b[0m\u001b[0;31m:\u001b[0m unexpected indent\n"
     ]
    }
   ],
   "source": [
    "%module modarray\n",
    "\n",
    "%{\n",
    "    #define SWIG_FILE_WITH_INIT\n",
    "    #include \"array_sum.h\"\n",
    "%}\n",
    "\n",
    "%include \"numpy.i\"\n",
    "\n",
    "%init %{\n",
    "    import_array();\n",
    "%}\n",
    "\n",
    "%apply (float* IN_ARRAY1, int DIM1) {(float* tab, int n)}\n",
    "\n",
    "%include \"array_sum.h\"\n"
   ]
  },
  {
   "cell_type": "markdown",
   "metadata": {},
   "source": [
    "The %apply directive tells SWIG that we are going to apply special processing to a datatype. The \"double *OUTPUT\" is the name of a rule describing how to return an output value from a \"double *\" (this rule is defined in the file typemaps.i). The rule gets applied to all of the datatypes listed in curly braces-- in this case \"double *result\".\n",
    "\n",
    "https://scipy.github.io/old-wiki/pages/Cookbook/SWIG_NumPy_examples.html\n",
    "ARGOUT_ARRAY1\n",
    "INPLACE_ARRAY1"
   ]
  },
  {
   "cell_type": "code",
   "execution_count": 14,
   "metadata": {
    "scrolled": true
   },
   "outputs": [],
   "source": [
    "! swig -python modarray.i"
   ]
  },
  {
   "cell_type": "code",
   "execution_count": 15,
   "metadata": {},
   "outputs": [],
   "source": [
    "! gcc -fPIC -c array_sum.c modarray_wrap.c -I/home/jacquem/anaconda3/include/python3.5m\n",
    "! gcc -shared array_sum.o modarray_wrap.o -o _modarray.so"
   ]
  },
  {
   "cell_type": "code",
   "execution_count": 20,
   "metadata": {},
   "outputs": [],
   "source": [
    "import modarray\n",
    "import numpy as np"
   ]
  },
  {
   "cell_type": "code",
   "execution_count": 22,
   "metadata": {},
   "outputs": [
    {
     "data": {
      "text/plain": [
       "4950.0"
      ]
     },
     "execution_count": 22,
     "metadata": {},
     "output_type": "execute_result"
    }
   ],
   "source": [
    "l = np.arange(100, dtype=np.float32)\n",
    "modarray.array_sum(l)"
   ]
  },
  {
   "cell_type": "code",
   "execution_count": 23,
   "metadata": {},
   "outputs": [
    {
     "data": {
      "text/plain": [
       "36.0"
      ]
     },
     "execution_count": 23,
     "metadata": {},
     "output_type": "execute_result"
    }
   ],
   "source": [
    "l = [1,2,3,4,5,6,7,8]\n",
    "modarray.array_sum(l)"
   ]
  },
  {
   "cell_type": "code",
   "execution_count": 24,
   "metadata": {},
   "outputs": [
    {
     "data": {
      "text/plain": [
       "15.0"
      ]
     },
     "execution_count": 24,
     "metadata": {},
     "output_type": "execute_result"
    }
   ],
   "source": [
    "l=(1,2,3,4,5)\n",
    "modarray.array_sum(l)"
   ]
  },
  {
   "cell_type": "code",
   "execution_count": null,
   "metadata": {
    "collapsed": true
   },
   "outputs": [],
   "source": []
  }
 ],
 "metadata": {
  "kernelspec": {
   "display_name": "Python 3",
   "language": "python",
   "name": "python3"
  },
  "language_info": {
   "codemirror_mode": {
    "name": "ipython",
    "version": 3
   },
   "file_extension": ".py",
   "mimetype": "text/x-python",
   "name": "python",
   "nbconvert_exporter": "python",
   "pygments_lexer": "ipython3",
   "version": "3.5.1"
  }
 },
 "nbformat": 4,
 "nbformat_minor": 2
}
