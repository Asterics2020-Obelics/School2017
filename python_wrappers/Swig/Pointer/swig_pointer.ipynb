{
 "cells": [
  {
   "cell_type": "markdown",
   "metadata": {
    "collapsed": true
   },
   "source": [
    "# Using Swig\n",
    "\n",
    "## fonctions with numpy list parameter"
   ]
  },
  {
   "cell_type": "markdown",
   "metadata": {},
   "source": [
    "### C header file array_sum.h"
   ]
  },
  {
   "cell_type": "code",
   "execution_count": null,
   "metadata": {
    "collapsed": true
   },
   "outputs": [],
   "source": [
    "#ifndef __REDUCTION_H__\n",
    "#define  __REDUCTION_H__\n",
    "\n",
    "float array_sum(float* tab, int n);\n",
    "\n",
    "#endif\n"
   ]
  },
  {
   "cell_type": "markdown",
   "metadata": {},
   "source": [
    "### C file array_sum.c"
   ]
  },
  {
   "cell_type": "code",
   "execution_count": null,
   "metadata": {
    "collapsed": true
   },
   "outputs": [],
   "source": [
    "/// Sum of array elements.\n",
    "/**\t@param tab  : float pointer ,    array to sum\n",
    " * \t@param n    : unsigned int  ,    array n\n",
    " * \t@return     : float         ,    sum of array elements\n",
    "*/\n",
    "float array_sum(float* tab, int n){\n",
    "\n",
    "    float result = 0.;\n",
    "        for ( unsigned int i =0; i < n; ++i){\n",
    "            result += tab[i];\n",
    "        }\n",
    "        return result;\n",
    "}\n"
   ]
  },
  {
   "cell_type": "markdown",
   "metadata": {},
   "source": [
    "* what exactly *tab* is? Is it a single value to be altered in-place? Is it an array, and if so what is its length?\n",
    "\n",
    "* Is it input-only? Output-only? Input-output?\n",
    "\n",
    "* SWIG cannot determine these details\n",
    "\n",
    "* array_sum is a routine that takes an input-only array of length *n* of float values called *tab* and returns the sum of the array"
   ]
  },
  {
   "cell_type": "markdown",
   "metadata": {},
   "source": [
    "* For python, the preferred way of handling contiguous  blocks of homogeneous data is with the module NumPy, which provides full object-oriented access to multidimensial arrays of data. \n",
    "def array_sum(tab):\n",
    "\"\"\"\n",
    "array_sum: return the sum of a sequence\n",
    "array_sum(numpy.ndarray) -> float\n",
    "array_sum(list) -> float\n",
    "array_sum(tuple) -> float\n",
    "\"\"\""
   ]
  },
  {
   "cell_type": "markdown",
   "metadata": {},
   "source": [
    "* where *tab* would be a NumPy array of float32 values, and its length n would be extracted from *tab* internally before being passed to the C routine\n",
    "* SWIG allows these types of conversions to be defined via a mechanism called _typemaps"
   ]
  },
  {
   "cell_type": "markdown",
   "metadata": {},
   "source": [
    "### swig interface file modarray.i"
   ]
  },
  {
   "cell_type": "code",
   "execution_count": 2,
   "metadata": {},
   "outputs": [
    {
     "ename": "IndentationError",
     "evalue": "unexpected indent (<ipython-input-2-28a17a7d21cf>, line 11)",
     "output_type": "error",
     "traceback": [
      "\u001b[0;36m  File \u001b[0;32m\"<ipython-input-2-28a17a7d21cf>\"\u001b[0;36m, line \u001b[0;32m11\u001b[0m\n\u001b[0;31m    import_array();\u001b[0m\n\u001b[0m    ^\u001b[0m\n\u001b[0;31mIndentationError\u001b[0m\u001b[0;31m:\u001b[0m unexpected indent\n"
     ]
    }
   ],
   "source": [
    "%module modarray\n",
    "\n",
    "%{\n",
    "    #define SWIG_FILE_WITH_INIT\n",
    "    #include \"array_sum.h\"\n",
    "%}\n",
    "\n",
    "%include \"numpy.i\"\n",
    "\n",
    "%init %{\n",
    "    import_array();\n",
    "%}\n",
    "\n",
    "%apply (float* IN_ARRAY1, int DIM1) {(float* tab, int n)}\n",
    "\n",
    "%include \"array_sum.h\"\n"
   ]
  },
  {
   "cell_type": "code",
   "execution_count": 14,
   "metadata": {
    "collapsed": true,
    "scrolled": true
   },
   "outputs": [],
   "source": [
    "! swig -python modarray.i"
   ]
  },
  {
   "cell_type": "code",
   "execution_count": 15,
   "metadata": {
    "collapsed": true
   },
   "outputs": [],
   "source": [
    "! gcc -fPIC -c array_sum.c modarray_wrap.c -I/home/jacquem/anaconda3/include/python3.5m\n",
    "! gcc -shared array_sum.o modarray_wrap.o -o _modarray.so"
   ]
  },
  {
   "cell_type": "code",
   "execution_count": 20,
   "metadata": {
    "collapsed": true
   },
   "outputs": [],
   "source": [
    "import modarray\n",
    "import numpy as np"
   ]
  },
  {
   "cell_type": "code",
   "execution_count": 22,
   "metadata": {},
   "outputs": [
    {
     "data": {
      "text/plain": [
       "4950.0"
      ]
     },
     "execution_count": 22,
     "metadata": {},
     "output_type": "execute_result"
    }
   ],
   "source": [
    "l = np.arange(100, dtype=np.float32)\n",
    "modarray.array_sum(l)"
   ]
  },
  {
   "cell_type": "code",
   "execution_count": 23,
   "metadata": {},
   "outputs": [
    {
     "data": {
      "text/plain": [
       "36.0"
      ]
     },
     "execution_count": 23,
     "metadata": {},
     "output_type": "execute_result"
    }
   ],
   "source": [
    "l = [1,2,3,4,5,6,7,8]\n",
    "modarray.array_sum(l)"
   ]
  },
  {
   "cell_type": "code",
   "execution_count": 24,
   "metadata": {},
   "outputs": [
    {
     "data": {
      "text/plain": [
       "15.0"
      ]
     },
     "execution_count": 24,
     "metadata": {},
     "output_type": "execute_result"
    }
   ],
   "source": [
    "l=(1,2,3,4,5)\n",
    "modarray.array_sum(l)"
   ]
  },
  {
   "cell_type": "markdown",
   "metadata": {
    "collapsed": true
   },
   "source": [
    "### References\n",
    "\n",
    "[Swig typemaps ](http://swig.org/Doc1.1/HTML/Typemaps.html).\n",
    "\n",
    "[Swig interface file for NumPy](https://docs.scipy.org/doc/numpy/reference/swig.interface-file.html).\n",
    "\n",
    "[Swig Numpy example ](https://scipy.github.io/old-wiki/pages/Cookbook/SWIG_NumPy_examples.html)."
   ]
  },
  {
   "cell_type": "code",
   "execution_count": null,
   "metadata": {
    "collapsed": true
   },
   "outputs": [],
   "source": []
  }
 ],
 "metadata": {
  "kernelspec": {
   "display_name": "Python 3",
   "language": "python",
   "name": "python3"
  },
  "language_info": {
   "codemirror_mode": {
    "name": "ipython",
    "version": 3
   },
   "file_extension": ".py",
   "mimetype": "text/x-python",
   "name": "python",
   "nbconvert_exporter": "python",
   "pygments_lexer": "ipython3",
   "version": "3.5.1"
  }
 },
 "nbformat": 4,
 "nbformat_minor": 2
}
