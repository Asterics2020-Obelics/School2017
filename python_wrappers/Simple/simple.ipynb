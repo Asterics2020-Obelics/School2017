{
 "cells": [
  {
   "cell_type": "markdown",
   "metadata": {},
   "source": [
    "# Using ctypes is a foreign function library for Python.\n",
    "https://docs.python.org/2/library/ctypes.html"
   ]
  },
  {
   "cell_type": "markdown",
   "metadata": {},
   "source": [
    "## 1. execute a function from an existing library"
   ]
  },
  {
   "cell_type": "code",
   "execution_count": null,
   "metadata": {
    "collapsed": true
   },
   "outputs": [],
   "source": [
    "! man 2 time"
   ]
  },
  {
   "cell_type": "code",
   "execution_count": 2,
   "metadata": {},
   "outputs": [
    {
     "name": "stdout",
     "output_type": "stream",
     "text": [
      "1496059875\n"
     ]
    }
   ],
   "source": [
    "from ctypes import CDLL\n",
    "\n",
    "libc = CDLL(\"libc.so.6\") \n",
    "print(libc.time(None))"
   ]
  },
  {
   "cell_type": "markdown",
   "metadata": {},
   "source": [
    "## 2. execute a function from your own (C) library\n",
    "### 2.1 by passing parameter by value"
   ]
  },
  {
   "cell_type": "markdown",
   "metadata": {},
   "source": [
    "#### Header file sum.h"
   ]
  },
  {
   "cell_type": "raw",
   "metadata": {},
   "source": [
    "#ifndef __REDUCTION_H__\n",
    "#define  __REDUCTION_H__\n",
    "    float sum(float a, float b);\n",
    "#endif"
   ]
  },
  {
   "cell_type": "markdown",
   "metadata": {},
   "source": [
    "#### C file sum.c"
   ]
  },
  {
   "cell_type": "raw",
   "metadata": {},
   "source": [
    "#include \"sum.h\"\n",
    "\n",
    "float sum(float a, float b){\n",
    "    float result = a + b;\n",
    "    return result;\n",
    "}"
   ]
  },
  {
   "cell_type": "markdown",
   "metadata": {
    "collapsed": true
   },
   "source": [
    "#### commands to build the shared library"
   ]
  },
  {
   "cell_type": "code",
   "execution_count": 3,
   "metadata": {},
   "outputs": [
    {
     "name": "stdout",
     "output_type": "stream",
     "text": [
      "array_sum.c  array_sum.o     libsum.so\t   sum.c  sum.o\r\n",
      "array_sum.h  libarraysum.so  simple.ipynb  sum.h\r\n"
     ]
    }
   ],
   "source": [
    "! rm -rf libsum.so sum.o\n",
    "! gcc -fPIC -Wall -c sum.c -I. -o sum.o\n",
    "! gcc -shared  -o libsum.so sum.o\n",
    "! ls "
   ]
  },
  {
   "cell_type": "code",
   "execution_count": 4,
   "metadata": {},
   "outputs": [
    {
     "name": "stdout",
     "output_type": "stream",
     "text": [
      "3.43 +  2.65 = 6.08\n"
     ]
    }
   ],
   "source": [
    "from ctypes import CDLL\n",
    "from ctypes import c_float\n",
    "\n",
    "lib = CDLL(\"libsum.so\")\n",
    "lib.sum.restype = c_float\n",
    "lib.sum.argtypes = [c_float, c_float]\n",
    "\n",
    "a = 3.43\n",
    "b = 2.65\n",
    "result =  lib.sum(a, b)\n",
    "print('{} +  {} = {:.2f}'.format(a, b, result))\n"
   ]
  },
  {
   "cell_type": "markdown",
   "metadata": {
    "collapsed": true
   },
   "source": [
    "### 2.2 by passing parameter by address (~by reference)"
   ]
  },
  {
   "cell_type": "markdown",
   "metadata": {},
   "source": [
    "#### header array_sum.h"
   ]
  },
  {
   "cell_type": "raw",
   "metadata": {},
   "source": [
    "#ifndef __REDUCTION_H__\n",
    "#define  __REDUCTION_H__\n",
    "\n",
    "float array_sum(float* tab, unsigned int size);\n",
    "\n",
    "#endif"
   ]
  },
  {
   "cell_type": "markdown",
   "metadata": {},
   "source": [
    "#### C file array_sum.c"
   ]
  },
  {
   "cell_type": "raw",
   "metadata": {},
   "source": [
    "#include \"array_sum.h\"\n",
    "\n",
    "/// Sum of array elements.\n",
    "/**\t@param tab  : float pointer ,    array to sum\n",
    " * \t@param size : unsigned int  ,    array size\n",
    " * \t@return     : float         ,    sum of array elements\n",
    "*/\n",
    "float array_sum(float* tab, unsigned int size){\n",
    "\n",
    "    float result = 0.;\n",
    "        for ( unsigned int i =0; i < size; ++i){\n",
    "            result += tab[i];\n",
    "        }\n",
    "        return result;\n",
    "}"
   ]
  },
  {
   "cell_type": "code",
   "execution_count": 3,
   "metadata": {},
   "outputs": [
    {
     "name": "stdout",
     "output_type": "stream",
     "text": [
      "array_sum.c  array_sum.o     libsum.so\t   sum.c  sum.o\r\n",
      "array_sum.h  libarraysum.so  simple.ipynb  sum.h\r\n"
     ]
    }
   ],
   "source": [
    "! rm -rf libarraysum.so array_sum.o\n",
    "! gcc -fPIC -Wall -c array_sum.c -I. -o array_sum.o\n",
    "! gcc -shared  -o libarraysum.so array_sum.o\n",
    "! ls "
   ]
  },
  {
   "cell_type": "code",
   "execution_count": 6,
   "metadata": {},
   "outputs": [
    {
     "name": "stdout",
     "output_type": "stream",
     "text": [
      "sum [1, 2, 3, 4, 5] = 15.00\n"
     ]
    }
   ],
   "source": [
    "from ctypes import CDLL\n",
    "from ctypes import c_float\n",
    "from ctypes import c_uint\n",
    "from ctypes import POINTER\n",
    "\n",
    "lib = CDLL(\"libarraysum.so\")\n",
    "lib.array_sum.restype = c_float\n",
    "lib.array_sum.argtypes = [POINTER(c_float),c_uint]\n",
    "\n",
    "l = [1,2,3,4,5]\n",
    "arr = (c_float * len(l))(*l)\n",
    "result = lib.array_sum(arr, len(l))\n",
    "print('sum {} = {:.2f}'.format(l, result))"
   ]
  },
  {
   "cell_type": "markdown",
   "metadata": {},
   "source": [
    "Note : a star before a list will unpack it\n",
    "\n",
    "l = [1,2,3,4,5]\n",
    "arr = (c_float * len(l))(*l)\n",
    "\n",
    "is equivalent to\n",
    "\n",
    "arr = (c_float * len(l))(1,2,3,4,5)\n",
    "\n"
   ]
  }
 ],
 "metadata": {
  "kernelspec": {
   "display_name": "Python 3",
   "language": "python",
   "name": "python3"
  },
  "language_info": {
   "codemirror_mode": {
    "name": "ipython",
    "version": 3
   },
   "file_extension": ".py",
   "mimetype": "text/x-python",
   "name": "python",
   "nbconvert_exporter": "python",
   "pygments_lexer": "ipython3",
   "version": "3.5.1"
  }
 },
 "nbformat": 4,
 "nbformat_minor": 2
}
