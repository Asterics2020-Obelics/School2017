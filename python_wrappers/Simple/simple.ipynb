{
 "cells": [
  {
   "cell_type": "markdown",
   "metadata": {
    "slideshow": {
     "slide_type": "slide"
    }
   },
   "source": [
    "# Using ctypes, a foreign function library for Python.\n",
    "https://docs.python.org/3.5/library/ctypes.html"
   ]
  },
  {
   "cell_type": "code",
   "execution_count": null,
   "metadata": {
    "collapsed": true
   },
   "outputs": [],
   "source": []
  },
  {
   "cell_type": "markdown",
   "metadata": {
    "slideshow": {
     "slide_type": "slide"
    }
   },
   "source": [
    "## 1. execute a function from an system library"
   ]
  },
  {
   "cell_type": "code",
   "execution_count": 1,
   "metadata": {
    "slideshow": {
     "slide_type": "fragment"
    }
   },
   "outputs": [
    {
     "name": "stdout",
     "output_type": "stream",
     "text": [
      "TIME(2)                    Linux Programmer's Manual                   TIME(2)\r\n",
      "\r\n",
      "\u001b[1mNAME\u001b[0m\r\n",
      "       time - get time in seconds\r\n",
      "\r\n",
      "\u001b[1mSYNOPSIS\u001b[0m\r\n",
      "       \u001b[1m#include <time.h>\u001b[0m\r\n",
      "\r\n",
      "       \u001b[1mtime_t time(time_t *\u001b[4m\u001b[22mtloc\u001b[24m\u001b[1m);\u001b[0m\r\n",
      "\r\n",
      "\u001b[1mDESCRIPTION\u001b[0m\r\n",
      "       \u001b[1mtime\u001b[22m()  returns  the  time  as  the  number of seconds since the Epoch,\r\n",
      "       1970-01-01 00:00:00 +0000 (UTC).\r\n",
      "\r\n",
      "       If \u001b[4mtloc\u001b[24m is non-NULL, the return value is  also  stored  in  the  memory\r\n",
      "       pointed to by \u001b[4mtloc\u001b[24m.\r\n",
      "\r\n",
      "\u001b[1mRETURN VALUE\u001b[0m\r\n",
      "       On  success,  the value of time in seconds since the Epoch is returned.\r\n",
      "       On error, \u001b[4m((time_t)\u001b[24m \u001b[4m-1)\u001b[24m is returned, and \u001b[4merrno\u001b[24m is set appropriately.\r\n",
      "\r\n",
      "\u001b[1mERRORS\u001b[0m\r\n",
      "       \u001b[1mEFAULT \u001b[4m\u001b[22mtloc\u001b[24m points outside  your  accessible  address  space  (but  see\r\n",
      "              BUGS).\r\n",
      "\r\n",
      "              On  systems  where the C library \u001b[1mtime\u001b[22m() wrapper function invokes\r\n",
      "              an implementation provided by the \u001b[1mvdso\u001b[22m(7) (so that there  is  no\r\n",
      "              trap  into the kernel), an invalid address may instead trigger a\r\n",
      "              \u001b[1mSIGSEGV \u001b[22msignal.\r\n",
      "\r\n",
      "\u001b[1mCONFORMING TO\u001b[0m\r\n",
      "       SVr4, 4.3BSD, C89, C99, POSIX.1-2001.  POSIX does not specify any error\r\n",
      "       conditions.\r\n",
      "\r\n",
      "\u001b[1mNOTES\u001b[0m\r\n",
      "       POSIX.1  defines  \u001b[4mseconds\u001b[24m \u001b[4msince\u001b[24m \u001b[4mthe\u001b[24m \u001b[4mEpoch\u001b[24m using a formula that approxi‐\r\n",
      "       mates the number of seconds between a specified  time  and  the  Epoch.\r\n",
      "       This  formula takes account of the facts that all years that are evenly\r\n",
      "       divisible by 4 are leap years, but years that are evenly  divisible  by\r\n",
      "       100 are not leap years unless they are also evenly divisible by 400, in\r\n",
      "       which case they are leap years.  This value is  not  the  same  as  the\r\n",
      "       actual  number  of  seconds  between the time and the Epoch, because of\r\n",
      "       leap seconds and because system clocks are not required to be  synchro‐\r\n",
      "       nized  to  a standard reference.  The intention is that the interpreta‐\r\n",
      "       tion of seconds since the Epoch values be consistent; see  POSIX.1-2008\r\n",
      "       Rationale A.4.15 for further rationale.\r\n",
      "\r\n",
      "       On Linux, a call to \u001b[1mtime\u001b[22m() with \u001b[4mtloc\u001b[24m specified as NULL cannot fail with\r\n",
      "       the error \u001b[1mEOVERFLOW\u001b[22m, even on ABIs where \u001b[4mtime_t\u001b[24m is a signed 32-bit inte‐\r\n",
      "       ger  and  the clock ticks past the time 2**31 (2038-01-19 03:14:08 UTC,\r\n",
      "       ignoring leap seconds).  (POSIX.1 permits, but does  not  require,  the\r\n",
      "       \u001b[1mEOVERFLOW  \u001b[22merror in the case where the seconds since the Epoch will not\r\n",
      "       fit in \u001b[4mtime_t\u001b[24m.)  Instead, the behavior on Linux is undefined  when  the\r\n",
      "       system  time  is out of the \u001b[4mtime_t\u001b[24m range.  Applications intended to run\r\n",
      "       after 2038 should use ABIs with \u001b[4mtime_t\u001b[24m wider than 32 bits.\r\n",
      "\r\n",
      "\u001b[1mBUGS\u001b[0m\r\n",
      "       Error returns from this system call are indistinguishable from success‐\r\n",
      "       ful  reports  that the time is a few seconds \u001b[4mbefore\u001b[24m the Epoch, so the C\r\n",
      "       library wrapper function never sets \u001b[4merrno\u001b[24m as a result of this call.\r\n",
      "\r\n",
      "       The \u001b[4mtloc\u001b[24m argument is obsolescent and should always be NULL in new code.\r\n",
      "       When \u001b[4mtloc\u001b[24m is NULL, the call cannot fail.\r\n",
      "\r\n",
      "\u001b[1mSEE ALSO\u001b[0m\r\n",
      "       \u001b[1mdate\u001b[22m(1), \u001b[1mgettimeofday\u001b[22m(2), \u001b[1mctime\u001b[22m(3), \u001b[1mftime\u001b[22m(3), \u001b[1mtime\u001b[22m(7), \u001b[1mvdso\u001b[22m(7)\r\n",
      "\r\n",
      "\u001b[1mCOLOPHON\u001b[0m\r\n",
      "       This  page  is  part of release 4.06 of the Linux \u001b[4mman-pages\u001b[24m project.  A\r\n",
      "       description of the project, information about reporting bugs,  and  the\r\n",
      "       latest     version     of     this    page,    can    be    found    at\r\n",
      "       https://www.kernel.org/doc/man-pages/.\r\n",
      "\r\n",
      "Linux                             2015-12-28                           TIME(2)\r\n"
     ]
    }
   ],
   "source": [
    "! man 2 time"
   ]
  },
  {
   "cell_type": "code",
   "execution_count": 5,
   "metadata": {
    "scrolled": true,
    "slideshow": {
     "slide_type": "slide"
    }
   },
   "outputs": [
    {
     "name": "stdout",
     "output_type": "stream",
     "text": [
      "1496779469\n"
     ]
    }
   ],
   "source": [
    "from ctypes import CDLL\n",
    "\n",
    "libc = CDLL(\"libc.so.6\") \n",
    "print(libc.time(None))"
   ]
  },
  {
   "cell_type": "markdown",
   "metadata": {
    "slideshow": {
     "slide_type": "subslide"
    }
   },
   "source": [
    "Because of the whole LD_LIBRARY_PATH setting requirement, ctypes is really intended for accessing system libraries. \n",
    "\n",
    "But you can still use it for other stuff."
   ]
  },
  {
   "cell_type": "markdown",
   "metadata": {
    "slideshow": {
     "slide_type": "slide"
    }
   },
   "source": [
    "## 2. execute a function from your own (C) library"
   ]
  },
  {
   "cell_type": "markdown",
   "metadata": {
    "slideshow": {
     "slide_type": "slide"
    }
   },
   "source": [
    "### 2.1 by passing parameter by value"
   ]
  },
  {
   "cell_type": "markdown",
   "metadata": {
    "slideshow": {
     "slide_type": "subslide"
    }
   },
   "source": [
    "#### Header file sum.h"
   ]
  },
  {
   "cell_type": "code",
   "execution_count": null,
   "metadata": {
    "collapsed": true,
    "slideshow": {
     "slide_type": "fragment"
    }
   },
   "outputs": [],
   "source": [
    "#ifndef __REDUCTION_H__\n",
    "#define  __REDUCTION_H__\n",
    "    float sum(float a, float b);\n",
    "#endif"
   ]
  },
  {
   "cell_type": "markdown",
   "metadata": {
    "slideshow": {
     "slide_type": "fragment"
    }
   },
   "source": [
    "#### C file sum.c"
   ]
  },
  {
   "cell_type": "code",
   "execution_count": null,
   "metadata": {
    "collapsed": true,
    "slideshow": {
     "slide_type": "fragment"
    }
   },
   "outputs": [],
   "source": [
    "float sum(float a, float b){\n",
    "    float result = a + b;\n",
    "    return result;\n",
    "}"
   ]
  },
  {
   "cell_type": "markdown",
   "metadata": {
    "collapsed": true,
    "slideshow": {
     "slide_type": "fragment"
    }
   },
   "source": [
    "#### commands to build the shared library"
   ]
  },
  {
   "cell_type": "code",
   "execution_count": 7,
   "metadata": {
    "collapsed": true,
    "slideshow": {
     "slide_type": "fragment"
    }
   },
   "outputs": [],
   "source": [
    "! gcc -fPIC -Wall -c sum.c -I. -o sum.o\n",
    "! gcc -shared  -o libsum.so sum.o\n",
    "! export LD_LIBRARY_PATH=$LD_LIBRARY_PATH:."
   ]
  },
  {
   "cell_type": "code",
   "execution_count": 8,
   "metadata": {
    "slideshow": {
     "slide_type": "slide"
    }
   },
   "outputs": [
    {
     "name": "stdout",
     "output_type": "stream",
     "text": [
      "3.43 +  2.65 = 6.08\n"
     ]
    }
   ],
   "source": [
    "from ctypes import CDLL\n",
    "from ctypes import c_float\n",
    "\n",
    "lib = CDLL(\"libsum.so\")\n",
    "lib.sum.restype = c_float\n",
    "lib.sum.argtypes = [c_float, c_float]\n",
    "\n",
    "a = 3.43\n",
    "b = 2.65\n",
    "result =  lib.sum(a, b)\n",
    "print('{} +  {} = {:.2f}'.format(a, b, result))"
   ]
  },
  {
   "cell_type": "markdown",
   "metadata": {
    "collapsed": true,
    "slideshow": {
     "slide_type": "slide"
    }
   },
   "source": [
    "### 2.2 by passing parameter by address (~by reference)"
   ]
  },
  {
   "cell_type": "markdown",
   "metadata": {
    "slideshow": {
     "slide_type": "subslide"
    }
   },
   "source": [
    "#### header array_sum.h"
   ]
  },
  {
   "cell_type": "code",
   "execution_count": null,
   "metadata": {
    "collapsed": true,
    "slideshow": {
     "slide_type": "fragment"
    }
   },
   "outputs": [],
   "source": [
    "#ifndef __REDUCTION_H__\n",
    "#define  __REDUCTION_H__\n",
    "\n",
    "float array_sum(float* tab, unsigned int size);\n",
    "\n",
    "#endif"
   ]
  },
  {
   "cell_type": "markdown",
   "metadata": {
    "slideshow": {
     "slide_type": "fragment"
    }
   },
   "source": [
    "#### C file array_sum.c"
   ]
  },
  {
   "cell_type": "code",
   "execution_count": null,
   "metadata": {
    "collapsed": true,
    "slideshow": {
     "slide_type": "fragment"
    }
   },
   "outputs": [],
   "source": [
    "/// Sum of array elements.\n",
    "/**\t@param tab  : float pointer ,    array to sum\n",
    " * \t@param size : unsigned int  ,    array size\n",
    " * \t@return     : float         ,    sum of array elements\n",
    "*/\n",
    "float array_sum(float* tab, unsigned int size){\n",
    "\n",
    "    float result = 0.;\n",
    "        for ( unsigned int i =0; i < size; ++i){\n",
    "            result += tab[i];\n",
    "        }\n",
    "        return result;\n",
    "}\n"
   ]
  },
  {
   "cell_type": "code",
   "execution_count": 9,
   "metadata": {
    "slideshow": {
     "slide_type": "subslide"
    }
   },
   "outputs": [
    {
     "name": "stdout",
     "output_type": "stream",
     "text": [
      "array_sum.c  array_sum.o     libsum.so\t   sum.c  sum.o\r\n",
      "array_sum.h  libarraysum.so  simple.ipynb  sum.h\r\n"
     ]
    }
   ],
   "source": [
    "! gcc -fPIC -Wall -c array_sum.c -I. -o array_sum.o\n",
    "! gcc -shared  -o libarraysum.so array_sum.o\n",
    "! ls"
   ]
  },
  {
   "cell_type": "code",
   "execution_count": 10,
   "metadata": {
    "slideshow": {
     "slide_type": "subslide"
    }
   },
   "outputs": [
    {
     "name": "stdout",
     "output_type": "stream",
     "text": [
      "sum [1, 2, 3, 4, 5] = 15.00\n"
     ]
    }
   ],
   "source": [
    "from ctypes import CDLL\n",
    "from ctypes import c_float\n",
    "from ctypes import c_uint\n",
    "from ctypes import POINTER\n",
    "\n",
    "lib = CDLL(\"libarraysum.so\")\n",
    "lib.array_sum.restype = c_float\n",
    "lib.array_sum.argtypes = [POINTER(c_float),c_uint]\n",
    "\n",
    "l = [1,2,3,4,5]\n",
    "arr = (c_float * len(l))(*l)\n",
    "result = lib.array_sum(arr, len(l))\n",
    "print('sum {} = {:.2f}'.format(l, result))"
   ]
  },
  {
   "cell_type": "markdown",
   "metadata": {
    "slideshow": {
     "slide_type": "fragment"
    }
   },
   "source": [
    "Note : a star before a list will unpack it\n",
    "`l = [1,2,3,4,5]`\n",
    "`arr = (c_float * len(l))(*l)`\n",
    "is equivalent to\n",
    "`arr = (c_float * len(l))(1,2,3,4,5)`"
   ]
  }
 ],
 "metadata": {
  "celltoolbar": "Slideshow",
  "kernelspec": {
   "display_name": "Python 3",
   "language": "python",
   "name": "python3"
  },
  "language_info": {
   "codemirror_mode": {
    "name": "ipython",
    "version": 3
   },
   "file_extension": ".py",
   "mimetype": "text/x-python",
   "name": "python",
   "nbconvert_exporter": "python",
   "pygments_lexer": "ipython3",
   "version": "3.5.1"
  }
 },
 "nbformat": 4,
 "nbformat_minor": 1
}
