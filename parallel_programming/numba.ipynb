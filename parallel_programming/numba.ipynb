{
 "cells": [
  {
   "cell_type": "markdown",
   "metadata": {},
   "source": [
    "# Optimization with Numba\n",
    "\n",
    "## Contents\n",
    "- [Context](#context)\n",
    "- [An overview of Numba](#overview)\n",
    "    - [Quick Start](#quickstart)\n",
    "    - [Pairwise Distance function](#ce1)\n",
    "    - [Bubble Sort](#ce2)\n",
    "- [Function Signature](#signature)\n",
    "- [Types and Variables](#typevar)\n",
    "    - [Strings](#strings)\n",
    "    - [Arrays](#arrays)\n",
    "    - [Ufuncs](#ufuncs)\n",
    "- [Examples](#eg)\n",
    "- [Glossary](#glossary)\n",
    "- [References](#ref)\n",
    "- [Credits](#credits)"
   ]
  },
  {
   "cell_type": "markdown",
   "metadata": {},
   "source": [
    "<a id='context'></a>\n",
    "## A little context \n",
    "\n",
    "Python is a great language for rapid development. However, its weakness is that it is slow in comparison to low-level languages, especially when having to deal with nested loops with huge arrays.\n",
    "\n",
    "Current approaches to dealing with this : \n",
    "\n",
    "- Cython\n",
    "- Weave\n",
    "- Wrap it using f2py etc.\n",
    "\n",
    "**Numba Philosophy** - Don't wrap or rewrite, just **decorate** !"
   ]
  },
  {
   "cell_type": "code",
   "execution_count": null,
   "metadata": {
    "collapsed": true
   },
   "outputs": [],
   "source": [
    "import numba\n",
    "import cmath"
   ]
  },
  {
   "cell_type": "markdown",
   "metadata": {},
   "source": [
    "<a id='overview'></a>\n",
    "## Numba : An overview\n",
    "\n",
    "Numba is an Open Source NumPy-aware optimizing compiler for Python sponsored by Continuum Analytics, Inc. It uses the LLVM compiler infrastructure to compile Python syntax to machine code.\n",
    "\n",
    "Numba gives you the power to speed up your applications with high performance functions written directly in Python. With a few annotations, array-oriented and math-heavy Python code can be just-in-time compiled to native machine instructions, similar in performance to C, C++ and Fortran, without having to switch languages or Python interpreters.\n",
    "\n",
    "Numba works by generating optimized machine code using the LLVM compiler infrastructure at import time, runtime, or statically (using the included pycc tool). Numba supports compilation of Python to run on either CPU or GPU hardware, and is designed to integrate with the Python scientific software stack.\n",
    "\n",
    "![](http://image.slidesharecdn.com/numbasiam2013-130226002550-phpapp02/95/numba-arrayoriented-python-compiler-for-numpy-10-638.jpg?cb=1361860314)\n",
    "Here are three of its most important distinguishing features:\n",
    "\n",
    "- Numba is a compiler - It leverages the LLVM Compilation Framework to parse, compile to, and optimize assembly code, in the same manner that the fastest compiled languages such as C and Fortran do.\n",
    "\n",
    "- Numba is Python - Although Numba utilizes very powerful libraries beneath Python for performance, the code you write is always pure Python, making it easier to author, debug, verify, and maintain.\n",
    "\n",
    "- Accelerating a function in Numba can be done with two lines of code - You provide a NumPy array-based Python function, import Numba's `jit` method, then annotate it with the `@jit` decorator or create the accelerated function by calling autojit directly.\n",
    "\n"
   ]
  },
  {
   "cell_type": "markdown",
   "metadata": {},
   "source": [
    "<a id='quickstart'></a>\n",
    "** Quick Start**\n",
    "\n",
    "As mentioned earlier, Numba compiles Python code to LLVM, which can be executed at runtime much faster than pure Python. The first step to using Numba is to get familiar with the [`jit`](text \"Just In Time compilation - Shorthand for “a function compiled with Numba.\") decorator."
   ]
  },
  {
   "cell_type": "code",
   "execution_count": null,
   "metadata": {
    "collapsed": false
   },
   "outputs": [],
   "source": [
    "from numba import jit\n",
    "\n",
    "@jit\n",
    "def sum(x, y):\n",
    "    return x + y\n",
    "\n",
    "%timeit sum(2,2)"
   ]
  },
  {
   "cell_type": "markdown",
   "metadata": {},
   "source": [
    "The very basic example above is compiled for any compatible input types automatically when the sum function is called. The result is a new function with performance comparable to a compiled function written in C. To compile for specific input types, we can tell Numba what those input types are:"
   ]
  },
  {
   "cell_type": "code",
   "execution_count": null,
   "metadata": {
    "collapsed": false
   },
   "outputs": [],
   "source": [
    "@jit('f8(f8,f8)')\n",
    "def sum(x, y):\n",
    "    return x + y\n",
    "\n",
    "%timeit sum(2,2)"
   ]
  },
  {
   "cell_type": "markdown",
   "metadata": {},
   "source": [
    "The string above passed to the `jit` decorator tells Numba the return type is an 8 byte float, and the two arguments passed in are also 8 byte floats. The string takes the form `returntype(arg1type, arg2type, ...)`.\n",
    "\n",
    "One of the main features of Numba is its support for NumPy arrays. The following example shows how a function can be compiled that takes a NumPy array of floats as an input:\n"
   ]
  },
  {
   "cell_type": "code",
   "execution_count": null,
   "metadata": {
    "collapsed": false
   },
   "outputs": [],
   "source": [
    "import numpy as np\n",
    "a=np.random.randn(100)\n",
    "%timeit a.sum()"
   ]
  },
  {
   "cell_type": "code",
   "execution_count": null,
   "metadata": {
    "collapsed": true
   },
   "outputs": [],
   "source": [
    "@jit('f8(f8[:])')\n",
    "def sum1d(array):\n",
    "    sum = 0.0\n",
    "    for i in range(array.shape[0]):\n",
    "        sum += array[i]\n",
    "    return sum\n"
   ]
  },
  {
   "cell_type": "code",
   "execution_count": null,
   "metadata": {
    "collapsed": false
   },
   "outputs": [],
   "source": [
    "\n",
    "%timeit sum1d(a)"
   ]
  },
  {
   "cell_type": "markdown",
   "metadata": {},
   "source": [
    "There are two main things to notice in the example above. The input argument is specified by the string `f8[:]`, which means a 1d array of 8 byte floats. A 2d array would be specified as `f8[:, :]`, a 3d array as `f8[:, :, :]`, and so on. The other thing to take note of is the array indexing and shape method call, and the fact that we’re iterating over a NumPy array using Python. Normally this would be terribly slow, but the performance of the code above is better than NumPy’s sum method.\n",
    "\n"
   ]
  },
  {
   "cell_type": "markdown",
   "metadata": {},
   "source": [
    "<a id='ce1'></a>\n",
    "** Comparison Example 1 : Pairwise Distance Function **\n",
    "\n",
    "*Pairwise distance* function: This will take an array representing M points in N dimensions, and return the M x M matrix of pairwise distances. This is a nice test function for a few reasons"
   ]
  },
  {
   "cell_type": "code",
   "execution_count": null,
   "metadata": {
    "collapsed": true
   },
   "outputs": [],
   "source": [
    "import numpy as np\n",
    "X = np.random.random((1000, 3))"
   ]
  },
  {
   "cell_type": "code",
   "execution_count": null,
   "metadata": {
    "collapsed": false
   },
   "outputs": [],
   "source": [
    "def pairwise_numpy(X):\n",
    "    return np.sqrt(((X[:, None, :] - X) ** 2).sum(-1))\n",
    "%timeit pairwise_numpy(X)"
   ]
  },
  {
   "cell_type": "code",
   "execution_count": null,
   "metadata": {
    "collapsed": false
   },
   "outputs": [],
   "source": [
    "def pairwise_python(X):\n",
    "    M = X.shape[0]\n",
    "    N = X.shape[1]\n",
    "    D = np.empty((M, M), dtype=np.float)\n",
    "    for i in range(M):\n",
    "        for j in range(M):\n",
    "            d = 0.0\n",
    "            for k in range(N):\n",
    "                tmp = X[i, k] - X[j, k]\n",
    "                d += tmp * tmp\n",
    "            D[i, j] = np.sqrt(d)\n",
    "    return D\n",
    "%timeit pairwise_python(X)"
   ]
  },
  {
   "cell_type": "markdown",
   "metadata": {},
   "source": [
    "As we see, it is ~ 100 times slower than the numpy broadcasting approach! This is due to Python's dynamic type checking, which can drastically slow down nested loops. With these two solutions, we're left with a tradeoff between efficiency of computation and efficiency of memory usage. This is where Numba could prove to be useful. It is also worthwhile to see how `scipy` and `scikit-learn` perform for the same function."
   ]
  },
  {
   "cell_type": "code",
   "execution_count": null,
   "metadata": {
    "collapsed": false
   },
   "outputs": [],
   "source": [
    "from scipy.spatial.distance import cdist\n",
    "%timeit cdist(X, X)"
   ]
  },
  {
   "cell_type": "code",
   "execution_count": null,
   "metadata": {
    "collapsed": false
   },
   "outputs": [],
   "source": [
    "from sklearn.metrics import euclidean_distances\n",
    "%timeit euclidean_distances(X, X)"
   ]
  },
  {
   "cell_type": "markdown",
   "metadata": {},
   "source": [
    "Now we try Numba! Numba is extremely simple to use. We just wrap our python function with `jit` (JIT stands for \"just in time\" compilation) to automatically create an efficient, compiled version of the function:"
   ]
  },
  {
   "cell_type": "code",
   "execution_count": null,
   "metadata": {
    "collapsed": false
   },
   "outputs": [],
   "source": [
    "from numba import double\n",
    "from numba.decorators import jit, autojit\n",
    "\n",
    "pairwise_numba = jit(pairwise_python)\n",
    "\n",
    "%timeit pairwise_numba(X)"
   ]
  },
  {
   "cell_type": "markdown",
   "metadata": {},
   "source": [
    "---\n",
    "<a id='ce2'></a>\n",
    "** Comparison Example 2 : Bubble Sort **\n",
    "\n",
    "![](http://upload.wikimedia.org/wikipedia/commons/c/c8/Bubble-sort-example-300px.gif)"
   ]
  },
  {
   "cell_type": "code",
   "execution_count": null,
   "metadata": {
    "collapsed": true
   },
   "outputs": [],
   "source": [
    "def bubblesort(X):\n",
    "    N = len(X)\n",
    "    for end in range(N, 1, -1):\n",
    "        for i in range(end - 1):\n",
    "            cur = X[i]\n",
    "            if cur > X[i + 1]:\n",
    "                tmp = X[i]\n",
    "                X[i] = X[i + 1]\n",
    "                X[i + 1] = tmp"
   ]
  },
  {
   "cell_type": "code",
   "execution_count": null,
   "metadata": {
    "collapsed": true
   },
   "outputs": [],
   "source": [
    "import numpy as np\n",
    "\n",
    "original = np.arange(0.0, 10.0, 0.01, dtype='f4')\n",
    "shuffled = original.copy()\n",
    "np.random.shuffle(shuffled)"
   ]
  },
  {
   "cell_type": "code",
   "execution_count": null,
   "metadata": {
    "collapsed": false
   },
   "outputs": [],
   "source": [
    "#Check if it works!\n",
    "sorted = shuffled.copy()\n",
    "bubblesort(sorted)\n",
    "print(np.array_equal(sorted, original))"
   ]
  },
  {
   "cell_type": "code",
   "execution_count": null,
   "metadata": {
    "collapsed": false
   },
   "outputs": [],
   "source": [
    "#Check execution time\n",
    "\n",
    "sorted[:] = shuffled[:]\n",
    "%timeit sorted[:] = shuffled[:]; bubblesort(sorted)"
   ]
  },
  {
   "cell_type": "markdown",
   "metadata": {},
   "source": [
    "Now let's make a Numba version of bubblesort!"
   ]
  },
  {
   "cell_type": "code",
   "execution_count": null,
   "metadata": {
    "collapsed": true
   },
   "outputs": [],
   "source": [
    "@jit(\"void(f4[:])\")\n",
    "def bubblesort_jit(X):\n",
    "    N = len(X)\n",
    "    for end in range(N, 1, -1):\n",
    "        for i in range(end - 1):\n",
    "            cur = X[i]\n",
    "            if cur > X[i + 1]:\n",
    "                tmp = X[i]\n",
    "                X[i] = X[i + 1]\n",
    "                X[i + 1] = tmp\n"
   ]
  },
  {
   "cell_type": "code",
   "execution_count": null,
   "metadata": {
    "collapsed": false
   },
   "outputs": [],
   "source": [
    "sorted[:] = shuffled[:] # reset to shuffled before sorting\n",
    "bubblesort_jit(sorted)\n",
    "print(np.array_equal(sorted, original))"
   ]
  },
  {
   "cell_type": "code",
   "execution_count": null,
   "metadata": {
    "collapsed": false
   },
   "outputs": [],
   "source": [
    "%timeit sorted[:] = shuffled[:]; bubblesort_jit(sorted)"
   ]
  },
  {
   "cell_type": "markdown",
   "metadata": {},
   "source": [
    "---\n",
    "<a id='signature'></a>\n",
    "## Function Signature\n",
    "\n",
    "In order to generate fast code, the compiler needs type information for the code. This allows a direct mapping from the Python operations to the appropriate machine instruction without any type check/dispatch mechanism. In numba, in most cases it suffices to specify the types for the parameters. In many cases, numba can deduce types for intermediate values as well as the return value using type inference. For convenience, it is also possible to specify in the signature the type of the return value\n",
    "\n",
    "A `numba.jit ` compiled function will only work when called with the right type of arguments (it may, however, perform some conversions on types that it considers equivalent).\n",
    "\n",
    "A signature contains the return type as well as the argument types. One way to specify the signature is using a string, like in our example. The signature takes the form: `<return type> ( <arg1 type>, <arg2 type>, ... )`. The types may be scalars or arrays (NumPy arrays). In our example, `void(f4[:])`, it means a function with no return (return type is void) that takes as unique argument an one-dimensional array of 4 byte floats `f4[:]`. Starting with numba version 0.12 the result type is optional. In that case the signature will look like the following: `<arg1 type>, <arg2 type>`, .... When the signature doesn’t provide a type for the return value, the type is inferred.\n",
    "The elementary built-in types in Numba include:\n",
    "\n",
    "    TypeName\tAlias\tResult Type\n",
    "\n",
    "\n",
    "       boolean    b1\tuint8 (char)\n",
    "       bool_      b1\tuint8 (char)\n",
    "       byte       u1\tunsigned char\n",
    "       uint8      u1\tuint8 (char)\n",
    "       uint16     u2\tuint16\n",
    "       uint32     u4\tuint32\n",
    "       uint64     u8\tuint64\n",
    "       char       i1\tsigned char\n",
    "       int8       i1\tint8 (char)\n",
    "       int16      i2\tint16\n",
    "       int32      i4\tint32 \n",
    "       int64      i8\tint64\n",
    "       float_     f4\tfloat32\n",
    "       float32    f4\tfloat32\n",
    "       double     f8\tfloat64\n",
    "       float64    f8\tfloat64\n",
    "       complex64  c8\tfloat complex\n",
    "       complex128 c16   double complex\n",
    "\n",
    "Some sample signatures are as follows:\n",
    "\n",
    "| Signature             | Meaning                                                                                                                  |\n",
    "|-----------------------|--------------------------------------------------------------------------------------------------------------------------|\n",
    "| void(f4[:], u8)       | a function with no return value taking a one-dimensional array of,single precision floats and a 64-bit unsigned integer. |\n",
    "| i4(f8)                | a function returning a 32-bit signed integer taking a double precision float as argument.                                |\n",
    "| void(f4[:,:],f4[:,:]) | a function with no return value taking 2 2-dimensional arrays as arguments                                               |"
   ]
  },
  {
   "cell_type": "markdown",
   "metadata": {},
   "source": [
    "<a id='typevar'></a>\n",
    "## Types and Variables in Numba \n",
    "\n",
    "Types can be used in Numba to compile functions directly with the `jit` function, and they can be used to declare local variables in both `jit` and `autojit` functions:"
   ]
  },
  {
   "cell_type": "code",
   "execution_count": null,
   "metadata": {
    "collapsed": true
   },
   "outputs": [],
   "source": [
    "@jit(locals=dict(array=double[:, :], scalar1=double))\n",
    "def func(array):\n",
    "    scalar1 = array[0, 0] # scalar is declared double\n",
    "    scalar2 = double(array[0, 0])"
   ]
  },
  {
   "cell_type": "markdown",
   "metadata": {},
   "source": [
    "Numba allows you to obtain the type of a expression or variable through the typeof function in a Numba function. This type can then be used for instance to cast other values:\n",
    "\n"
   ]
  },
  {
   "cell_type": "markdown",
   "metadata": {},
   "source": [
    "    type = numba.typeof(x + y)\n",
    "    value = type(value)"
   ]
  },
  {
   "cell_type": "code",
   "execution_count": null,
   "metadata": {
    "collapsed": false
   },
   "outputs": [],
   "source": [
    " numba.typeof(1.0)"
   ]
  },
  {
   "cell_type": "code",
   "execution_count": null,
   "metadata": {
    "collapsed": false
   },
   "outputs": [],
   "source": [
    " numba.typeof(cmath.sqrt(-1))"
   ]
  },
  {
   "cell_type": "markdown",
   "metadata": {},
   "source": [
    "Variables declared in the locals dict have a single type throughout the entire function. However, any variable not declared in locals can assume different types, just like in Python:"
   ]
  },
  {
   "cell_type": "code",
   "execution_count": null,
   "metadata": {
    "collapsed": true
   },
   "outputs": [],
   "source": [
    "@jit\n",
    "def variable_ressign(arg):\n",
    "    arg = 1.0\n",
    "    arg = \"hello\"\n",
    "    arg = object()\n",
    "    var = arg\n",
    "    var = \"world\""
   ]
  },
  {
   "cell_type": "markdown",
   "metadata": {},
   "source": [
    "However, there are some restrictions, namely that variables must have a unifyable type at control flow merge points. For example, the following code will not compile (according to the Numba documentation but seems like an update has been made to make this work):"
   ]
  },
  {
   "cell_type": "code",
   "execution_count": null,
   "metadata": {
    "collapsed": true
   },
   "outputs": [],
   "source": [
    "@jit\n",
    "def incompatible_types(arg):\n",
    "    if arg > 10:\n",
    "        x = \"hello\"\n",
    "    else:\n",
    "        x = arg\n",
    "\n",
    "    return x       "
   ]
  },
  {
   "cell_type": "code",
   "execution_count": null,
   "metadata": {
    "collapsed": false
   },
   "outputs": [],
   "source": [
    "incompatible_types(5)"
   ]
  },
  {
   "cell_type": "markdown",
   "metadata": {},
   "source": [
    "<a id='strings'></a>\n",
    "** Strings **\n",
    "\n",
    "Strings may be specified through the c_string_type type, a name which is subject to change in the future. This does not handle unicode, and is equivalent to char *:"
   ]
  },
  {
   "cell_type": "markdown",
   "metadata": {},
   "source": [
    "    c_string_type"
   ]
  },
  {
   "cell_type": "markdown",
   "metadata": {},
   "source": [
    "<a id='arrays'></a>\n",
    "** Arrays **\n",
    "\n",
    "Support for NumPy arrays is a key focus of Numba development and is currently undergoing extensive refactorization and improvement. Most capabilities of NumPy arrays are supported by Numba in object mode.\n",
    "\n"
   ]
  },
  {
   "cell_type": "code",
   "execution_count": null,
   "metadata": {
    "collapsed": false
   },
   "outputs": [],
   "source": [
    "@jit\n",
    "def sum(x, y):\n",
    "    array = np.arange(x * y).reshape(x, y)\n",
    "    sum = 0\n",
    "    for i in range(x):\n",
    "        for j in range(y):\n",
    "            sum += array[i, j]\n",
    "    return sum\n",
    "%timeit sum(100,100)"
   ]
  },
  {
   "cell_type": "markdown",
   "metadata": {},
   "source": [
    "The following is a forced compilation of the [`nopython-mode`](text \"A Numba compilation mode that generates code that does not access the Python C API. This compilation mode produces the highest performance code, but requires that the native types of all values in the function can be inferred, and that no new objects are allocated. Unless otherwise instructed, the @jit decorator will automatically fall back to object mode if nopython mode cannot be used.\") and it uses [`loop-jitting`](text \"A feature of compilation in object mode where a loop can be automatically extracted and compiled in nopython mode. This allows functions with operations unsupported in nopython mode,such as array creation, to see significant performance improvements if they contain loops with only nopython-supported operations.\")\n",
    "."
   ]
  },
  {
   "cell_type": "code",
   "execution_count": null,
   "metadata": {
    "collapsed": true
   },
   "outputs": [],
   "source": [
    "# force compilation in nopython mode\n",
    "\n",
    "@jit(nopython=True)\n",
    "def jitted_loop(array, x, y):\n",
    "    sum = 0\n",
    "    for i in range(x):\n",
    "        for j in range(y):\n",
    "            sum += array[i, j]\n",
    "    return sum\n"
   ]
  },
  {
   "cell_type": "code",
   "execution_count": null,
   "metadata": {
    "collapsed": false
   },
   "outputs": [],
   "source": [
    "import numpy as np\n",
    "arr=np.random.randn(100,100)\n",
    "%timeit jitted_loop(arr,100,100)"
   ]
  },
  {
   "cell_type": "markdown",
   "metadata": {},
   "source": [
    "The below code is compiled in [`object mode`](text \"A Numba compilation mode that generates code that handles all values as Python objects and uses the Python C API to perform all operations on those objects. Code compiled in object mode will often run no faster than Python interpreted code, unless the Numba compiler can take advantage of loop-jitting.\"\n",
    ")"
   ]
  },
  {
   "cell_type": "code",
   "execution_count": null,
   "metadata": {
    "collapsed": false
   },
   "outputs": [],
   "source": [
    "# compiled in object mode\n",
    "@jit\n",
    "def sum(x, y):\n",
    "    array = np.arange(x * y).reshape(x, y)\n",
    "    return jitted_loop(array, x, y)\n",
    "\n",
    "%timeit sum(100,100)"
   ]
  },
  {
   "cell_type": "markdown",
   "metadata": {},
   "source": [
    "A few noteworthy limitations of arrays at this time:\n",
    "\n",
    "- Arrays can be passed in to a function in `nopython` mode, but not returned. Arrays can only be returned in object mode.\n",
    "- New arrays can only be created in object mode.\n",
    "- Currently there are no bounds checking for array indexing and slicing, although negative indices will wrap around correctly.\n",
    "- A small number of NumPy array ufuncs are only supported in object mode, but the vast majority work in nopython mode.\n",
    "- Array slicing only works in object mode."
   ]
  },
  {
   "cell_type": "markdown",
   "metadata": {},
   "source": [
    "---\n",
    "<a id='ufuncs'></a>\n",
    "**UFuncs**\n",
    "\n",
    "Numba’s vectorize allows Numba functions taking scalar input arguments to be used as NumPy [ufuncs]( http://docs.scipy.org/doc/numpy/reference/ufuncs.html). Creating a traditional NumPy ufunc is not the most difficult task in the world, but it is also not the most straightforward process and involves writing some C code. Numba makes this easy though. Using the vectorize decorator, Numba can compile a Python function into a ufunc that operates over NumPy arrays as fast as traditional ufuncs written in C.\n",
    "\n",
    "Ufunc arguments are scalars of a NumPy array. Function definitions can be arbitrary mathematical expressions. The vectorize decorator needs to know the argument and return types of the ufunc. These are specified much like the `jit` decorator:"
   ]
  },
  {
   "cell_type": "code",
   "execution_count": null,
   "metadata": {
    "collapsed": false
   },
   "outputs": [],
   "source": [
    "import math\n",
    "from numba import vectorize\n",
    "\n",
    "@vectorize(['float64(float64, float64)'])\n",
    "def my_ufunc(x, y):\n",
    "    return x+y+math.sqrt(x*y)\n",
    "\n",
    "a = np.arange(1.0, 10.0)\n",
    "b = np.arange(1.0, 10.0)\n",
    "# Calls compiled version of my_ufunc for each element of a and b\n",
    "print(my_ufunc(a, b))"
   ]
  },
  {
   "cell_type": "markdown",
   "metadata": {},
   "source": [
    "<a id='eg'></a>\n",
    "## Examples\n",
    "\n",
    "** An Image Processing Example **"
   ]
  },
  {
   "cell_type": "code",
   "execution_count": null,
   "metadata": {
    "collapsed": false
   },
   "outputs": [],
   "source": [
    "import numpy\n",
    "import matplotlib.pyplot as plt\n",
    "\n",
    "def filter2d(image, filt):\n",
    "    M, N = image.shape\n",
    "    Mf, Nf = filt.shape\n",
    "    Mf2 = Mf // 2\n",
    "    Nf2 = Nf // 2\n",
    "    result = numpy.zeros_like(image)\n",
    "    for i in range(Mf2, M - Mf2):\n",
    "        for j in range(Nf2, N - Nf2):\n",
    "            num = 0.0\n",
    "            for ii in range(Mf):\n",
    "                for jj in range(Nf):\n",
    "                    num += (filt[Mf-1-ii, Nf-1-jj] * image[i-Mf2+ii, j-Nf2+jj])\n",
    "            result[i, j] = num\n",
    "    return result\n",
    "\n",
    "# This kind of quadruply-nested for-loop is going to be quite slow.\n",
    "# Using Numba we can compile this code to LLVM which then gets\n",
    "# compiled to machine code:\n",
    "\n",
    "from numba import double, jit\n",
    "\n",
    "fastfilter_2d = jit(double[:,:](double[:,:], double[:,:]))(filter2d)\n",
    "\n",
    "# Now fastfilter_2d runs at speeds as if you had first translated\n",
    "# it to C, compiled the code and wrapped it with Python\n",
    "image = numpy.random.random((100, 100))\n",
    "filt = numpy.random.random((10, 10))\n",
    "plt.figure(1)\n",
    "plt.imshow(image)\n",
    "plt.gcf().set_size_inches(6, 6)"
   ]
  },
  {
   "cell_type": "code",
   "execution_count": null,
   "metadata": {
    "collapsed": false
   },
   "outputs": [],
   "source": [
    "%timeit result1=filter2d(image,filt)"
   ]
  },
  {
   "cell_type": "code",
   "execution_count": null,
   "metadata": {
    "collapsed": false
   },
   "outputs": [],
   "source": [
    "%timeit result2=fastfilter_2d(image,filt)"
   ]
  },
  {
   "cell_type": "code",
   "execution_count": null,
   "metadata": {
    "collapsed": false
   },
   "outputs": [],
   "source": [
    "result1=filter2d(image,filt)\n",
    "plt.subplot(221)\n",
    "plt.imshow(result1)\n",
    "plt.title('Filter')\n",
    "result2=fastfilter_2d(image,filt)\n",
    "plt.subplot(222)\n",
    "plt.imshow(result2)\n",
    "plt.title('Fast Filter')\n",
    "plt.gcf().set_size_inches(6, 6)\n",
    "plt.show()"
   ]
  },
  {
   "cell_type": "markdown",
   "metadata": {},
   "source": [
    "---\n",
    "** Mandelbrot Fractals **\n",
    "\n",
    "The Mandelbrot set is obtained by iteratively assigning a value to each point $c$ in the complex plane according to the formula $z_{n+1} = z_{n}^2 + c$ ($z_{0} = 0$).  If the value $z$ goes to $\\infty$ as $n \\rightarrow \\infty$, then that point $c$ is _not_ part of the Mandelbrot set.  Conversely, if the value of $z$ remains bounded no matter how large $n$ becomes, the point $c$ is part of the Mandelbrot set.\n",
    "\n",
    "From [Wikipedia](https://en.wikipedia.org/wiki/Mandelbrot_set), \"Mandelbrot set images are made by sampling complex numbers and determining for each whether the result tends towards infinity when a particular mathematical operation is iterated on it.  Treating the real and imaginary parts of each number as image coordinates, pixels are colored according to how rapidly the sequence diverges, if at all.\"\n",
    "\n",
    "The following code implements the _escape-time algorithm_, which tells you how many iterations until a point \"escapes\", or becomes unbounded, if it does so under a certain maximum limit.  This version does not utilize complex numbers, although a version could be written which does so."
   ]
  },
  {
   "cell_type": "code",
   "execution_count": null,
   "metadata": {
    "collapsed": true
   },
   "outputs": [],
   "source": [
    "from __future__ import division\n",
    "\n",
    "import numpy as np\n",
    "import scipy as sp\n",
    "import matplotlib as mpl\n",
    "import matplotlib.pyplot as plt\n",
    "\n",
    "#IPython magic command for inline plotting\n",
    "%matplotlib inline\n",
    "#a better plot shape for IPython\n",
    "mpl.rcParams['figure.figsize']=[15,3]"
   ]
  },
  {
   "cell_type": "code",
   "execution_count": null,
   "metadata": {
    "collapsed": false
   },
   "outputs": [],
   "source": [
    "def mandelbrot(minR, maxR, minI, maxI, samples=51, iters=25):\n",
    "    \"\"\"\n",
    "    Generate the Mandelbrot set within the boundaries of the limits\n",
    "    maxR, minR, minI, maxI with samples and a maximum iteration of iters.\n",
    "    \"\"\"\n",
    "    # Generate a mesh for the set.\n",
    "    setR = np.linspace(minR, maxR, samples)\n",
    "    setI = np.linspace(minI, maxI, samples)\n",
    " \n",
    "    # Calculate the values at each point of the mesh by the escape-time\n",
    "    # fractal algorithm.\n",
    "    pts = np.zeros([samples, samples])\n",
    "    for ii in range(1, len(setR)):\n",
    "        for jj in range(1, len(setI)):\n",
    "            it = 0\n",
    "            x = 0.0\n",
    "            y = 0.0\n",
    " \n",
    "            xx = setR[ii]\n",
    "            yy = setI[jj]\n",
    " \n",
    "            # Look for escape---i.e., does the value settle down in a few\n",
    "            # iterations or does it keep going?\n",
    "            while(x * x + y * y < 4 and it < iters):\n",
    "                xtmp = x * x - y * y + xx\n",
    "                y = 2 * x * y + yy\n",
    "                x = xtmp\n",
    "                it += 1\n",
    "            pts[ii, jj] = it\n",
    "    return setR, setI, pts\n",
    " \n",
    "# Plot boundaries\n",
    "minR = -2.25\n",
    "maxR = 0.75\n",
    "minI = -1.5\n",
    "maxI = 1.5\n",
    " \n",
    "samples = 201\n",
    "iters = 20\n",
    " \n",
    "x, y, z = mandelbrot(minR, maxR, minI, maxI, samples, iters)\n",
    "z = z.transpose()\n",
    " \n",
    "mpl.rcParams['figure.figsize']=[8,8]\n",
    "plt.imshow(z, interpolation='nearest')\n",
    "plt.show()"
   ]
  },
  {
   "cell_type": "code",
   "execution_count": null,
   "metadata": {
    "collapsed": false
   },
   "outputs": [],
   "source": [
    "%timeit mandelbrot(minR, maxR, minI, maxI, samples, iters)"
   ]
  },
  {
   "cell_type": "code",
   "execution_count": null,
   "metadata": {
    "collapsed": false,
    "scrolled": true
   },
   "outputs": [],
   "source": [
    "mandelbrot_jit=jit(mandelbrot)\n",
    "%timeit mandelbrot_jit(minR, maxR, minI, maxI, samples, iters)"
   ]
  },
  {
   "cell_type": "markdown",
   "metadata": {},
   "source": [
    "<a id='glossary'></a>\n",
    "## Glossary\n",
    "\n",
    "*JIT function*\n",
    "\n",
    "Shorthand for “a function compiled with Numba.”\n",
    "\n",
    "*loop-jitting*\n",
    "\n",
    "A feature of compilation in object mode where a loop can be automatically extracted and compiled in nopython mode. This allows functions with operations unsupported in nopython mode (such as array creation) to see significant performance improvements if they contain loops with only nopython-supported operations.\n",
    "\n",
    "*nopython mode*\n",
    "\n",
    "A Numba compilation mode that generates code that does not access the Python C API. This compilation mode produces the highest performance code, but requires that the native types of all values in the function can be inferred, and that no new objects are allocated. Unless otherwise instructed, the @jit decorator will automatically fall back to object mode if nopython mode cannot be used.\n",
    "\n",
    "*object mode*\n",
    "\n",
    "A Numba compilation mode that generates code that handles all values as Python objects and uses the Python C API to perform all operations on those objects. Code compiled in object mode will often run no faster than Python interpreted code, unless the Numba compiler can take advantage of loop-jitting.\n",
    "\n",
    "*type inference*\n",
    "\n",
    "The process by which Numba determines the specialized types of all values within a function being compiled. Type inference can fail if arguments or globals have Python types unknown to Numba, or if functions are used that are not recognized by Numba. Sucessful type inference is a prerequisite for compilation in nopython mode.\n",
    "\n",
    "*ufunc*\n",
    "\n",
    "A NumPy universal function. Numba can create new compiled ufuncs with the `@vectorize` decorator."
   ]
  },
  {
   "cell_type": "markdown",
   "metadata": {},
   "source": [
    "<a id='ref'></a>\n",
    "## References \n",
    "\n",
    "- [Numba Documentation](http://numba.pydata.org/numba-doc/0.15.1/index.html)\n",
    "- [Numba vs. Cython](https://jakevdp.github.io/blog/2013/06/15/numba-vs-cython-take-2/)"
   ]
  },
  {
   "cell_type": "markdown",
   "metadata": {},
   "source": [
    "---\n",
    "## Credits\n",
    "\n",
    "Neal Davis and Lakshmi Rao developed these materials for [Computational Science and Engineering](http://cse.illinois.edu/) at the University of Illinois at Urbana–Champaign.  \n",
    "<img src=\"http://i.creativecommons.org/l/by/3.0/88x31.png\" align=\"left\">\n",
    "This content is available under a [Creative Commons Attribution 3.0 Unported License](https://creativecommons.org/licenses/by/3.0/).\n",
    "\n",
    "[![](https://bytebucket.org/davis68/resources/raw/f7c98d2b95e961fae257707e22a58fa1a2c36bec/logos/baseline_cse_wdmk.png?token=be4cc41d4b2afe594f5b1570a3c5aad96a65f0d6)](http://cse.illinois.edu/)"
   ]
  }
 ],
 "metadata": {
  "kernelspec": {
   "display_name": "Python 3",
   "language": "python",
   "name": "python3"
  },
  "language_info": {
   "codemirror_mode": {
    "name": "ipython",
    "version": 3
   },
   "file_extension": ".py",
   "mimetype": "text/x-python",
   "name": "python",
   "nbconvert_exporter": "python",
   "pygments_lexer": "ipython3",
   "version": "3.5.2"
  }
 },
 "nbformat": 4,
 "nbformat_minor": 1
}
