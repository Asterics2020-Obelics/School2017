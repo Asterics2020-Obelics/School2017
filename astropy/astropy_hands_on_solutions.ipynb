{
 "cells": [
  {
   "cell_type": "markdown",
   "metadata": {},
   "source": [
    "# Hands On Astropy Tutorial - Solutions to the exercises\n",
    "**Tutors:** Axel Donath and Johannes King\n",
    "\n",
    "This botebook contains the solutions to the exercises in [astropy_hands_on.ipynb](https://github.com/Asterics2020-Obelics/School2017/blob/master/astropy/astropy_hands_on.ipynb)"
   ]
  },
  {
   "cell_type": "markdown",
   "metadata": {},
   "source": [
    "## 1. Units and Quantities"
   ]
  },
  {
   "cell_type": "markdown",
   "metadata": {},
   "source": [
    "- (*easy*) How long does the light travel from the sun to the earth in minutes? How long does the light travel from the Galactic center (assume a distance of 8 kpc) in years? \n"
   ]
  },
  {
   "cell_type": "code",
   "execution_count": null,
   "metadata": {},
   "outputs": [],
   "source": [
    "from astropy import constants as const\n",
    "import astropy.units as u\n",
    "\n",
    "# distance sun - earth\n",
    "distance_sun = 1 * u.au\n",
    "# speed of light\n",
    "speed = const.c\n",
    "# time\n",
    "time_sun = distance_sun / speed\n",
    "print(\"Light travels from sun to earth in {:.2f}\".format(time_sun.to('min')))\n",
    "\n",
    "# distance to GC\n",
    "distance_gc = 8 * u.kpc\n",
    "# time\n",
    "time_gc = distance_gc / speed\n",
    "print(\"Light travels from the GC to earth in {:.2f}\".format(time_gc.to('yr')))"
   ]
  },
  {
   "cell_type": "markdown",
   "metadata": {},
   "source": [
    "- (*advanced*) Define a new unit called `\"baro-meter\"`, which is eqivalent to 25 cm and use it to measure the height of the empire state building (for other ways to measure the height of a building using a barometer see [barometer question on Wikipedia](https://en.wikipedia.org/wiki/Barometer_question)...)"
   ]
  },
  {
   "cell_type": "code",
   "execution_count": null,
   "metadata": {},
   "outputs": [],
   "source": [
    "# define new unit baro-meter\n",
    "bm = u.def_unit('baro-meter')\n",
    "\n",
    "# define equivalency\n",
    "baro_meter = [\n",
    "   (bm, u.cm, lambda x: 25 * x, lambda x: x / 25)\n",
    "]\n",
    "\n",
    "# height of the empire state building\n",
    "height = 381 * u.m\n",
    "\n",
    "# convert to baro-meters\n",
    "height_bm = height.to(bm, equivalencies=baro_meter)\n",
    "print(\"The height of the empire state building in baro-meters is {}\".format(height_bm))"
   ]
  },
  {
   "cell_type": "markdown",
   "metadata": {},
   "source": [
    "- (*expert*) Integrate something..."
   ]
  },
  {
   "cell_type": "code",
   "execution_count": null,
   "metadata": {},
   "outputs": [],
   "source": [
    "# define energies\n",
    "energy = 1 * u.TeV\n",
    "energy_lo = 100 * u.GeV\n",
    "energy_hi = 10 * u.TeV\n",
    "\n",
    "# define power-law\n",
    "def powerlaw(energy, index, amplitude, reference):\n",
    "    return amplitude * (energy/reference) ** -index\n",
    "\n",
    "# evaluate\n",
    "flux = powerlaw(energy=energy, index=2, amplitude=2e-11 * u.Unit('cm-2 s-1 TeV-1'), reference=100*u.GeV)\n",
    "print(\"Flux @ {}: {:.2g}\".format(energy, flux.to('TeV-1 cm-2 s-1')))\n",
    "\n",
    "# integrate\n",
    "from scipy.integrate import quad\n",
    "\n",
    "# direct integration does not work\n",
    "try:\n",
    "    integral = quad(func = powerlaw,\n",
    "                    a = 100 * u.GeV,\n",
    "                    b = 10 * u.TeV,\n",
    "                    args = (2, 2e-11 * u.Unit('cm-2 s-1 TeV-1'), 100*u.GeV),\n",
    "                   )\n",
    "except:\n",
    "    pass\n",
    "\n",
    "# define custom function\n",
    "def powerlaw_integrate(energy_low, energy_hi, index, amplitude, reference):\n",
    "    # Convert to fixed set of units\n",
    "    emin = energy_low.to('TeV').value\n",
    "    emax = energy_hi.to('TeV').value\n",
    "    ampl = amplitude.to('cm-2 s-1 TeV-1').value\n",
    "    ref = reference.to('TeV').value\n",
    "    idx = u.Quantity(index).value\n",
    "    \n",
    "    integral = quad(powerlaw,\n",
    "                   a=emin,\n",
    "                   b=emax,\n",
    "                   args=(idx, ampl, ref))\n",
    "    return integral[0] * u.Unit('cm-2 s-1')\n",
    "\n",
    "# evaluate it\n",
    "integral = powerlaw_integrate(energy_low=energy_lo,\n",
    "                              energy_hi=energy_hi,\n",
    "                              index=2,\n",
    "                              amplitude=2e-11 * u.Unit('cm-2 s-1 TeV-1'),\n",
    "                             reference=100 * u.GeV)\n",
    "\n",
    "print(\"Integral between {:.2f} and {:.2f}: {:.2g}\".format(energy_lo, energy_hi, integral))"
   ]
  },
  {
   "cell_type": "markdown",
   "metadata": {},
   "source": [
    "## 2. Coordinates"
   ]
  },
  {
   "cell_type": "markdown",
   "metadata": {},
   "source": [
    "- (*easy*) Define the sky coordinate for your favorite object and find the distance to the crab nebula and Galactic center."
   ]
  },
  {
   "cell_type": "code",
   "execution_count": null,
   "metadata": {
    "collapsed": true
   },
   "outputs": [],
   "source": []
  },
  {
   "cell_type": "markdown",
   "metadata": {},
   "source": [
    "- (*advanced*) ?? "
   ]
  },
  {
   "cell_type": "code",
   "execution_count": null,
   "metadata": {
    "collapsed": true
   },
   "outputs": [],
   "source": []
  },
  {
   "cell_type": "markdown",
   "metadata": {},
   "source": [
    "- (*expert*) Make a plot of the height above horizon vs.time for the crab position at the location of Annecy. Mark the the time range where it is visible."
   ]
  },
  {
   "cell_type": "code",
   "execution_count": null,
   "metadata": {
    "collapsed": true
   },
   "outputs": [],
   "source": []
  },
  {
   "cell_type": "markdown",
   "metadata": {},
   "source": [
    "## 3. Tables"
   ]
  },
  {
   "cell_type": "markdown",
   "metadata": {},
   "source": [
    "- (*easy*) Add columns with the `RA` and `DEC` coordinates of the objects to the example table."
   ]
  },
  {
   "cell_type": "code",
   "execution_count": null,
   "metadata": {
    "collapsed": true
   },
   "outputs": [],
   "source": []
  },
  {
   "cell_type": "markdown",
   "metadata": {},
   "source": [
    "- (*advanced*) Load the example table `fermi_2fhl.fits`. Find all sources within 1 deg from the crab."
   ]
  },
  {
   "cell_type": "code",
   "execution_count": null,
   "metadata": {
    "collapsed": true
   },
   "outputs": [],
   "source": []
  },
  {
   "cell_type": "markdown",
   "metadata": {},
   "source": [
    "- (*expert*) Load the table `fermi_2fhl.fits` and make an all sky plot of the source positions."
   ]
  },
  {
   "cell_type": "code",
   "execution_count": null,
   "metadata": {
    "collapsed": true
   },
   "outputs": [],
   "source": []
  },
  {
   "cell_type": "markdown",
   "metadata": {},
   "source": [
    "## 4. FITS Images and WCS"
   ]
  },
  {
   "cell_type": "markdown",
   "metadata": {},
   "source": [
    "- (*easy*) "
   ]
  },
  {
   "cell_type": "code",
   "execution_count": null,
   "metadata": {
    "collapsed": true
   },
   "outputs": [],
   "source": []
  },
  {
   "cell_type": "markdown",
   "metadata": {},
   "source": [
    "- (*advanced*) Sum up all the data within a circle of X deg around the position of. You can use [np.indices()]() you can get arrays of x and y pixel positions \n",
    "    "
   ]
  },
  {
   "cell_type": "code",
   "execution_count": null,
   "metadata": {
    "collapsed": true
   },
   "outputs": [],
   "source": []
  },
  {
   "cell_type": "markdown",
   "metadata": {},
   "source": [
    "- (*hard*) Find the sky position of the brightest pixel in the data. You can use e.g. [np.argmax()](https://docs.scipy.org/doc/numpy/reference/generated/numpy.argmax.html)."
   ]
  },
  {
   "cell_type": "code",
   "execution_count": null,
   "metadata": {
    "collapsed": true
   },
   "outputs": [],
   "source": []
  },
  {
   "cell_type": "markdown",
   "metadata": {},
   "source": [
    "## 5. Plotting of sky images (optional)"
   ]
  },
  {
   "cell_type": "markdown",
   "metadata": {},
   "source": [
    "- (*easy*)"
   ]
  },
  {
   "cell_type": "code",
   "execution_count": null,
   "metadata": {
    "collapsed": true
   },
   "outputs": [],
   "source": []
  },
  {
   "cell_type": "markdown",
   "metadata": {},
   "source": [
    "- (*advanced*) Make a combined RGB image of the Chandra data in different energy bands. You can use e.g. [make_lupton_rgb](http://docs.astropy.org/en/stable/api/astropy.visualization.make_lupton_rgb.html#astropy.visualization.make_lupton_rgb)"
   ]
  },
  {
   "cell_type": "code",
   "execution_count": null,
   "metadata": {
    "collapsed": true
   },
   "outputs": [],
   "source": []
  },
  {
   "cell_type": "markdown",
   "metadata": {},
   "source": [
    "- (*expert*) "
   ]
  },
  {
   "cell_type": "code",
   "execution_count": null,
   "metadata": {
    "collapsed": true
   },
   "outputs": [],
   "source": []
  },
  {
   "cell_type": "markdown",
   "metadata": {},
   "source": [
    "## Acknowledgements\n",
    "![](asterics_log.png)\n",
    "\n",
    "This tutorial was supported by the H2020-Astronomy ESFRI and Research Infrastructure Cluster (Grant Agreement number: 653477)."
   ]
  }
 ],
 "metadata": {
  "kernelspec": {
   "display_name": "Python 3",
   "language": "python",
   "name": "python3"
  },
  "language_info": {
   "codemirror_mode": {
    "name": "ipython",
    "version": 3
   },
   "file_extension": ".py",
   "mimetype": "text/x-python",
   "name": "python",
   "nbconvert_exporter": "python",
   "pygments_lexer": "ipython3",
   "version": "3.5.3"
  }
 },
 "nbformat": 4,
 "nbformat_minor": 2
}
